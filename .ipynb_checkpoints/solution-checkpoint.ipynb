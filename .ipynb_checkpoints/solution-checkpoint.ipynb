{
 "cells": [
  {
   "cell_type": "markdown",
   "id": "717cac29",
   "metadata": {},
   "source": [
    "# Data Preprocessing:"
   ]
  },
  {
   "cell_type": "markdown",
   "id": "e66958d2",
   "metadata": {},
   "source": [
    "## Import libraries"
   ]
  },
  {
   "cell_type": "code",
   "execution_count": 1,
   "id": "fcd45e6f",
   "metadata": {},
   "outputs": [],
   "source": [
    "import pandas as pd\n",
    "import matplotlib.pyplot as plt\n",
    "import seaborn as sns\n",
    "import numpy as np\n",
    "import requests\n",
    "import multiprocessing \n",
    "from datetime import datetime\n",
    "from sklearn.model_selection import train_test_split, cross_val_score\n",
    "from sklearn.metrics import accuracy_score, precision_score, recall_score, f1_score, roc_auc_score, confusion_matrix, classification_report, roc_curve\n",
    "from sklearn.linear_model import LogisticRegression\n",
    "from sklearn.ensemble import RandomForestClassifier, GradientBoostingClassifier, VotingClassifier, RandomForestRegressor\n",
    "from sklearn.model_selection import GridSearchCV, RandomizedSearchCV\n",
    "from sklearn.feature_selection import SelectKBest, f_classif\n",
    "from sklearn.preprocessing import LabelEncoder\n",
    "from sklearn.preprocessing import OneHotEncoder\n",
    "from sklearn.tree import DecisionTreeClassifier\n",
    "from sklearn.dummy import DummyRegressor"
   ]
  },
  {
   "cell_type": "markdown",
   "id": "9e2b91a6",
   "metadata": {},
   "source": [
    "## Load Dataset"
   ]
  },
  {
   "cell_type": "markdown",
   "id": "00593d4e",
   "metadata": {},
   "source": [
    "- We will load the dataset into a pandas dataframe for analysis and processing."
   ]
  },
  {
   "cell_type": "code",
   "execution_count": 2,
   "id": "f1ff816e",
   "metadata": {
    "scrolled": true
   },
   "outputs": [
    {
     "name": "stderr",
     "output_type": "stream",
     "text": [
      "/home/fernando/.pyenv/versions/3.8.12/envs/lewagon/lib/python3.8/site-packages/IPython/core/interactiveshell.py:3457: DtypeWarning: Columns (1,6) have mixed types.Specify dtype option on import or set low_memory=False.\n",
      "  exec(code_obj, self.user_global_ns, self.user_ns)\n"
     ]
    }
   ],
   "source": [
    "df=pd.DataFrame(pd.read_csv(\"/home/fernando/code/lugerlakes/latam/dataset_SCL.csv\"))\n"
   ]
  },
  {
   "cell_type": "markdown",
   "id": "0b04dc9f",
   "metadata": {},
   "source": [
    "## Exploration Data Analysis (EDA)\n"
   ]
  },
  {
   "cell_type": "markdown",
   "id": "b30eaab8",
   "metadata": {},
   "source": [
    "- Explore the data to gain insights into the data distribution and identify any missing or incorrect data.\n",
    "- Preprocess the data to generate additional features required for analysis."
   ]
  },
  {
   "cell_type": "code",
   "execution_count": 3,
   "id": "abb0d679",
   "metadata": {},
   "outputs": [
    {
     "data": {
      "text/html": [
       "<div>\n",
       "<style scoped>\n",
       "    .dataframe tbody tr th:only-of-type {\n",
       "        vertical-align: middle;\n",
       "    }\n",
       "\n",
       "    .dataframe tbody tr th {\n",
       "        vertical-align: top;\n",
       "    }\n",
       "\n",
       "    .dataframe thead th {\n",
       "        text-align: right;\n",
       "    }\n",
       "</style>\n",
       "<table border=\"1\" class=\"dataframe\">\n",
       "  <thead>\n",
       "    <tr style=\"text-align: right;\">\n",
       "      <th></th>\n",
       "      <th>Fecha-I</th>\n",
       "      <th>Vlo-I</th>\n",
       "      <th>Ori-I</th>\n",
       "      <th>Des-I</th>\n",
       "      <th>Emp-I</th>\n",
       "      <th>Fecha-O</th>\n",
       "      <th>Vlo-O</th>\n",
       "      <th>Ori-O</th>\n",
       "      <th>Des-O</th>\n",
       "      <th>Emp-O</th>\n",
       "      <th>DIA</th>\n",
       "      <th>MES</th>\n",
       "      <th>AÑO</th>\n",
       "      <th>DIANOM</th>\n",
       "      <th>TIPOVUELO</th>\n",
       "      <th>OPERA</th>\n",
       "      <th>SIGLAORI</th>\n",
       "      <th>SIGLADES</th>\n",
       "    </tr>\n",
       "  </thead>\n",
       "  <tbody>\n",
       "    <tr>\n",
       "      <th>0</th>\n",
       "      <td>2017-01-01 23:30:00</td>\n",
       "      <td>226</td>\n",
       "      <td>SCEL</td>\n",
       "      <td>KMIA</td>\n",
       "      <td>AAL</td>\n",
       "      <td>2017-01-01 23:33:00</td>\n",
       "      <td>226</td>\n",
       "      <td>SCEL</td>\n",
       "      <td>KMIA</td>\n",
       "      <td>AAL</td>\n",
       "      <td>1</td>\n",
       "      <td>1</td>\n",
       "      <td>2017</td>\n",
       "      <td>Domingo</td>\n",
       "      <td>I</td>\n",
       "      <td>American Airlines</td>\n",
       "      <td>Santiago</td>\n",
       "      <td>Miami</td>\n",
       "    </tr>\n",
       "    <tr>\n",
       "      <th>1</th>\n",
       "      <td>2017-01-02 23:30:00</td>\n",
       "      <td>226</td>\n",
       "      <td>SCEL</td>\n",
       "      <td>KMIA</td>\n",
       "      <td>AAL</td>\n",
       "      <td>2017-01-02 23:39:00</td>\n",
       "      <td>226</td>\n",
       "      <td>SCEL</td>\n",
       "      <td>KMIA</td>\n",
       "      <td>AAL</td>\n",
       "      <td>2</td>\n",
       "      <td>1</td>\n",
       "      <td>2017</td>\n",
       "      <td>Lunes</td>\n",
       "      <td>I</td>\n",
       "      <td>American Airlines</td>\n",
       "      <td>Santiago</td>\n",
       "      <td>Miami</td>\n",
       "    </tr>\n",
       "    <tr>\n",
       "      <th>2</th>\n",
       "      <td>2017-01-03 23:30:00</td>\n",
       "      <td>226</td>\n",
       "      <td>SCEL</td>\n",
       "      <td>KMIA</td>\n",
       "      <td>AAL</td>\n",
       "      <td>2017-01-03 23:39:00</td>\n",
       "      <td>226</td>\n",
       "      <td>SCEL</td>\n",
       "      <td>KMIA</td>\n",
       "      <td>AAL</td>\n",
       "      <td>3</td>\n",
       "      <td>1</td>\n",
       "      <td>2017</td>\n",
       "      <td>Martes</td>\n",
       "      <td>I</td>\n",
       "      <td>American Airlines</td>\n",
       "      <td>Santiago</td>\n",
       "      <td>Miami</td>\n",
       "    </tr>\n",
       "    <tr>\n",
       "      <th>3</th>\n",
       "      <td>2017-01-04 23:30:00</td>\n",
       "      <td>226</td>\n",
       "      <td>SCEL</td>\n",
       "      <td>KMIA</td>\n",
       "      <td>AAL</td>\n",
       "      <td>2017-01-04 23:33:00</td>\n",
       "      <td>226</td>\n",
       "      <td>SCEL</td>\n",
       "      <td>KMIA</td>\n",
       "      <td>AAL</td>\n",
       "      <td>4</td>\n",
       "      <td>1</td>\n",
       "      <td>2017</td>\n",
       "      <td>Miercoles</td>\n",
       "      <td>I</td>\n",
       "      <td>American Airlines</td>\n",
       "      <td>Santiago</td>\n",
       "      <td>Miami</td>\n",
       "    </tr>\n",
       "    <tr>\n",
       "      <th>4</th>\n",
       "      <td>2017-01-05 23:30:00</td>\n",
       "      <td>226</td>\n",
       "      <td>SCEL</td>\n",
       "      <td>KMIA</td>\n",
       "      <td>AAL</td>\n",
       "      <td>2017-01-05 23:28:00</td>\n",
       "      <td>226</td>\n",
       "      <td>SCEL</td>\n",
       "      <td>KMIA</td>\n",
       "      <td>AAL</td>\n",
       "      <td>5</td>\n",
       "      <td>1</td>\n",
       "      <td>2017</td>\n",
       "      <td>Jueves</td>\n",
       "      <td>I</td>\n",
       "      <td>American Airlines</td>\n",
       "      <td>Santiago</td>\n",
       "      <td>Miami</td>\n",
       "    </tr>\n",
       "  </tbody>\n",
       "</table>\n",
       "</div>"
      ],
      "text/plain": [
       "               Fecha-I Vlo-I Ori-I Des-I Emp-I              Fecha-O Vlo-O  \\\n",
       "0  2017-01-01 23:30:00   226  SCEL  KMIA   AAL  2017-01-01 23:33:00   226   \n",
       "1  2017-01-02 23:30:00   226  SCEL  KMIA   AAL  2017-01-02 23:39:00   226   \n",
       "2  2017-01-03 23:30:00   226  SCEL  KMIA   AAL  2017-01-03 23:39:00   226   \n",
       "3  2017-01-04 23:30:00   226  SCEL  KMIA   AAL  2017-01-04 23:33:00   226   \n",
       "4  2017-01-05 23:30:00   226  SCEL  KMIA   AAL  2017-01-05 23:28:00   226   \n",
       "\n",
       "  Ori-O Des-O Emp-O  DIA  MES   AÑO     DIANOM TIPOVUELO              OPERA  \\\n",
       "0  SCEL  KMIA   AAL    1    1  2017    Domingo         I  American Airlines   \n",
       "1  SCEL  KMIA   AAL    2    1  2017      Lunes         I  American Airlines   \n",
       "2  SCEL  KMIA   AAL    3    1  2017     Martes         I  American Airlines   \n",
       "3  SCEL  KMIA   AAL    4    1  2017  Miercoles         I  American Airlines   \n",
       "4  SCEL  KMIA   AAL    5    1  2017     Jueves         I  American Airlines   \n",
       "\n",
       "   SIGLAORI SIGLADES  \n",
       "0  Santiago    Miami  \n",
       "1  Santiago    Miami  \n",
       "2  Santiago    Miami  \n",
       "3  Santiago    Miami  \n",
       "4  Santiago    Miami  "
      ]
     },
     "execution_count": 3,
     "metadata": {},
     "output_type": "execute_result"
    }
   ],
   "source": [
    "df.head()\n"
   ]
  },
  {
   "cell_type": "code",
   "execution_count": 4,
   "id": "a8f9eade",
   "metadata": {},
   "outputs": [
    {
     "name": "stdout",
     "output_type": "stream",
     "text": [
      "<class 'pandas.core.frame.DataFrame'>\n",
      "RangeIndex: 68206 entries, 0 to 68205\n",
      "Data columns (total 18 columns):\n",
      " #   Column     Non-Null Count  Dtype \n",
      "---  ------     --------------  ----- \n",
      " 0   Fecha-I    68206 non-null  object\n",
      " 1   Vlo-I      68206 non-null  object\n",
      " 2   Ori-I      68206 non-null  object\n",
      " 3   Des-I      68206 non-null  object\n",
      " 4   Emp-I      68206 non-null  object\n",
      " 5   Fecha-O    68206 non-null  object\n",
      " 6   Vlo-O      68205 non-null  object\n",
      " 7   Ori-O      68206 non-null  object\n",
      " 8   Des-O      68206 non-null  object\n",
      " 9   Emp-O      68206 non-null  object\n",
      " 10  DIA        68206 non-null  int64 \n",
      " 11  MES        68206 non-null  int64 \n",
      " 12  AÑO        68206 non-null  int64 \n",
      " 13  DIANOM     68206 non-null  object\n",
      " 14  TIPOVUELO  68206 non-null  object\n",
      " 15  OPERA      68206 non-null  object\n",
      " 16  SIGLAORI   68206 non-null  object\n",
      " 17  SIGLADES   68206 non-null  object\n",
      "dtypes: int64(3), object(15)\n",
      "memory usage: 9.4+ MB\n"
     ]
    },
    {
     "data": {
      "text/html": [
       "<div>\n",
       "<style scoped>\n",
       "    .dataframe tbody tr th:only-of-type {\n",
       "        vertical-align: middle;\n",
       "    }\n",
       "\n",
       "    .dataframe tbody tr th {\n",
       "        vertical-align: top;\n",
       "    }\n",
       "\n",
       "    .dataframe thead th {\n",
       "        text-align: right;\n",
       "    }\n",
       "</style>\n",
       "<table border=\"1\" class=\"dataframe\">\n",
       "  <thead>\n",
       "    <tr style=\"text-align: right;\">\n",
       "      <th></th>\n",
       "      <th>DIA</th>\n",
       "      <th>MES</th>\n",
       "      <th>AÑO</th>\n",
       "    </tr>\n",
       "  </thead>\n",
       "  <tbody>\n",
       "    <tr>\n",
       "      <th>count</th>\n",
       "      <td>68206.000000</td>\n",
       "      <td>68206.000000</td>\n",
       "      <td>68206.000000</td>\n",
       "    </tr>\n",
       "    <tr>\n",
       "      <th>mean</th>\n",
       "      <td>15.714790</td>\n",
       "      <td>6.622585</td>\n",
       "      <td>2017.000029</td>\n",
       "    </tr>\n",
       "    <tr>\n",
       "      <th>std</th>\n",
       "      <td>8.782886</td>\n",
       "      <td>3.523321</td>\n",
       "      <td>0.005415</td>\n",
       "    </tr>\n",
       "    <tr>\n",
       "      <th>min</th>\n",
       "      <td>1.000000</td>\n",
       "      <td>1.000000</td>\n",
       "      <td>2017.000000</td>\n",
       "    </tr>\n",
       "    <tr>\n",
       "      <th>25%</th>\n",
       "      <td>8.000000</td>\n",
       "      <td>3.000000</td>\n",
       "      <td>2017.000000</td>\n",
       "    </tr>\n",
       "    <tr>\n",
       "      <th>50%</th>\n",
       "      <td>16.000000</td>\n",
       "      <td>7.000000</td>\n",
       "      <td>2017.000000</td>\n",
       "    </tr>\n",
       "    <tr>\n",
       "      <th>75%</th>\n",
       "      <td>23.000000</td>\n",
       "      <td>10.000000</td>\n",
       "      <td>2017.000000</td>\n",
       "    </tr>\n",
       "    <tr>\n",
       "      <th>max</th>\n",
       "      <td>31.000000</td>\n",
       "      <td>12.000000</td>\n",
       "      <td>2018.000000</td>\n",
       "    </tr>\n",
       "  </tbody>\n",
       "</table>\n",
       "</div>"
      ],
      "text/plain": [
       "                DIA           MES           AÑO\n",
       "count  68206.000000  68206.000000  68206.000000\n",
       "mean      15.714790      6.622585   2017.000029\n",
       "std        8.782886      3.523321      0.005415\n",
       "min        1.000000      1.000000   2017.000000\n",
       "25%        8.000000      3.000000   2017.000000\n",
       "50%       16.000000      7.000000   2017.000000\n",
       "75%       23.000000     10.000000   2017.000000\n",
       "max       31.000000     12.000000   2018.000000"
      ]
     },
     "execution_count": 4,
     "metadata": {},
     "output_type": "execute_result"
    }
   ],
   "source": [
    "df.info()\n",
    "df.describe()"
   ]
  },
  {
   "cell_type": "code",
   "execution_count": 5,
   "id": "9b365e16",
   "metadata": {
    "scrolled": true
   },
   "outputs": [
    {
     "data": {
      "text/plain": [
       "Grupo LATAM                 40892\n",
       "Sky Airline                 14298\n",
       "Aerolineas Argentinas        1949\n",
       "Copa Air                     1850\n",
       "Latin American Wings         1674\n",
       "Avianca                      1152\n",
       "JetSmart SPA                 1095\n",
       "Gol Trans                     806\n",
       "American Airlines             757\n",
       "Air Canada                    565\n",
       "Iberia                        362\n",
       "Delta Air                     358\n",
       "Air France                    358\n",
       "Aeromexico                    351\n",
       "United Airlines               335\n",
       "Oceanair Linhas Aereas        279\n",
       "Alitalia                      259\n",
       "K.L.M.                        251\n",
       "British Airways               205\n",
       "Qantas Airways                195\n",
       "Lacsa                          92\n",
       "Austral                        74\n",
       "Plus Ultra Lineas Aereas       49\n",
       "Name: OPERA, dtype: int64"
      ]
     },
     "execution_count": 5,
     "metadata": {},
     "output_type": "execute_result"
    }
   ],
   "source": [
    "df['OPERA'].value_counts()"
   ]
  },
  {
   "cell_type": "code",
   "execution_count": 6,
   "id": "f4f41e41",
   "metadata": {
    "scrolled": false
   },
   "outputs": [
    {
     "data": {
      "text/plain": [
       "N    36966\n",
       "I    31240\n",
       "Name: TIPOVUELO, dtype: int64"
      ]
     },
     "execution_count": 6,
     "metadata": {},
     "output_type": "execute_result"
    }
   ],
   "source": [
    "df['TIPOVUELO'].value_counts()"
   ]
  },
  {
   "cell_type": "code",
   "execution_count": 7,
   "id": "b627948e",
   "metadata": {},
   "outputs": [
    {
     "data": {
      "text/plain": [
       "Viernes      10292\n",
       "Jueves       10251\n",
       "Lunes        10131\n",
       "Domingo       9796\n",
       "Miercoles     9722\n",
       "Martes        9662\n",
       "Sabado        8352\n",
       "Name: DIANOM, dtype: int64"
      ]
     },
     "execution_count": 7,
     "metadata": {},
     "output_type": "execute_result"
    }
   ],
   "source": [
    "df['DIANOM'].value_counts()"
   ]
  },
  {
   "cell_type": "code",
   "execution_count": 8,
   "id": "f26af07b",
   "metadata": {
    "scrolled": true
   },
   "outputs": [
    {
     "data": {
      "text/plain": [
       "Buenos Aires      6335\n",
       "Antofagasta       5786\n",
       "Lima              5270\n",
       "Calama            5146\n",
       "Puerto Montt      4357\n",
       "                  ... \n",
       "Quito                2\n",
       "Washington           1\n",
       "Pisco, Peru          1\n",
       "Puerto Stanley       1\n",
       "Cochabamba           1\n",
       "Name: SIGLADES, Length: 62, dtype: int64"
      ]
     },
     "execution_count": 8,
     "metadata": {},
     "output_type": "execute_result"
    }
   ],
   "source": [
    "df['SIGLADES'].value_counts()"
   ]
  },
  {
   "cell_type": "code",
   "execution_count": 9,
   "id": "88b5238a",
   "metadata": {
    "scrolled": true
   },
   "outputs": [
    {
     "name": "stdout",
     "output_type": "stream",
     "text": [
      "Fecha-I      0\n",
      "Vlo-I        0\n",
      "Ori-I        0\n",
      "Des-I        0\n",
      "Emp-I        0\n",
      "Fecha-O      0\n",
      "Vlo-O        1\n",
      "Ori-O        0\n",
      "Des-O        0\n",
      "Emp-O        0\n",
      "DIA          0\n",
      "MES          0\n",
      "AÑO          0\n",
      "DIANOM       0\n",
      "TIPOVUELO    0\n",
      "OPERA        0\n",
      "SIGLAORI     0\n",
      "SIGLADES     0\n",
      "dtype: int64\n"
     ]
    }
   ],
   "source": [
    "# Check for missing values\n",
    "print(df.isnull().sum())"
   ]
  },
  {
   "cell_type": "code",
   "execution_count": 10,
   "id": "52bb7b44",
   "metadata": {},
   "outputs": [
    {
     "name": "stderr",
     "output_type": "stream",
     "text": [
      "/tmp/ipykernel_9925/3432380276.py:2: FutureWarning: Dropping of nuisance columns in DataFrame reductions (with 'numeric_only=None') is deprecated; in a future version this will raise TypeError.  Select only valid columns before calling the reduction.\n",
      "  df = df.fillna(df.mean())\n"
     ]
    }
   ],
   "source": [
    "# Fill empty values\n",
    "df = df.fillna(df.mean())"
   ]
  },
  {
   "cell_type": "code",
   "execution_count": 11,
   "id": "54edd57e",
   "metadata": {},
   "outputs": [
    {
     "name": "stdout",
     "output_type": "stream",
     "text": [
      "Fecha-I      0\n",
      "Vlo-I        0\n",
      "Ori-I        0\n",
      "Des-I        0\n",
      "Emp-I        0\n",
      "Fecha-O      0\n",
      "Vlo-O        1\n",
      "Ori-O        0\n",
      "Des-O        0\n",
      "Emp-O        0\n",
      "DIA          0\n",
      "MES          0\n",
      "AÑO          0\n",
      "DIANOM       0\n",
      "TIPOVUELO    0\n",
      "OPERA        0\n",
      "SIGLAORI     0\n",
      "SIGLADES     0\n",
      "dtype: int64\n"
     ]
    }
   ],
   "source": [
    "# Check for missing values\n",
    "print(df.isnull().sum())"
   ]
  },
  {
   "cell_type": "markdown",
   "id": "805ff0bc",
   "metadata": {},
   "source": [
    "# Feature Engineering"
   ]
  },
  {
   "cell_type": "markdown",
   "id": "57304693",
   "metadata": {},
   "source": [
    "Generate the following additional columns:\n",
    "- high_season : 1 if Date-I is between Dec-15 and Mar-3, or Jul-15 and Jul-31, or Sep-11 and Sep-30, 0 otherwise.\n",
    "- min_diff : difference in minutes between Date-O and Date-I .\n",
    "- delay_15 : 1 if min_diff > 15, 0 if not.\n",
    "- period_day : morning (between 5:00 and 11:59), afternoon (between 12:00 and 18:59) and night (between 19:00 and 4:59), based onDate-I ."
   ]
  },
  {
   "cell_type": "markdown",
   "id": "2b5f0230",
   "metadata": {},
   "source": [
    "## New feature: High Season"
   ]
  },
  {
   "cell_type": "code",
   "execution_count": 12,
   "id": "9ab23350",
   "metadata": {},
   "outputs": [],
   "source": [
    "# Define a function to calculate the high season flag\n",
    "def is_high_season(date):\n",
    "    month = date.month\n",
    "    day = date.day\n",
    "    if (month == 12 and day >= 15) or ((month == 1 or month == 2 or (month == 3 and day <=3))) or \\\n",
    "        (month == 7 and day >= 15 and day <= 31) or (month == 9 and day >= 11 and day <= 30):\n",
    "        return 1\n",
    "    else:\n",
    "        return 0\n",
    "\n",
    "# Calculate high season flag\n",
    "df['high_season'] = df['Fecha-I'].apply(lambda x: is_high_season(pd.to_datetime(x)))\n",
    "df['high_season']=df['high_season'].astype(int)\n",
    "\n",
    "\n"
   ]
  },
  {
   "cell_type": "markdown",
   "id": "b7135f84",
   "metadata": {},
   "source": [
    "## New feature: Time difference between scheduled and actual flight time"
   ]
  },
  {
   "cell_type": "code",
   "execution_count": 13,
   "id": "c01b35b9",
   "metadata": {},
   "outputs": [],
   "source": [
    "df['min_diff'] = pd.to_datetime(df['Fecha-O']) - pd.to_datetime(df['Fecha-I'])\n",
    "df['min_diff'] = df['min_diff'].apply(lambda x: x.total_seconds() / 60)\n",
    "df['min_diff'] = df['min_diff'].astype(int)"
   ]
  },
  {
   "cell_type": "markdown",
   "id": "da4ebbff",
   "metadata": {},
   "source": [
    "## New feature: Delay > 15 min"
   ]
  },
  {
   "cell_type": "code",
   "execution_count": 14,
   "id": "81515761",
   "metadata": {},
   "outputs": [],
   "source": [
    "df['delay_15'] = df['min_diff'].apply(lambda x: 1 if x > 15 else 0)\n",
    "df['delay_15'] = df['delay_15'].astype(int)"
   ]
  },
  {
   "cell_type": "markdown",
   "id": "c60dc004",
   "metadata": {},
   "source": [
    "## New feature: Period_day"
   ]
  },
  {
   "cell_type": "code",
   "execution_count": 15,
   "id": "ddb4ced0",
   "metadata": {},
   "outputs": [],
   "source": [
    "df['period_day'] = pd.to_datetime(df['Fecha-I']).apply(lambda x: 'morning' if x.hour >= 5 and x.hour < 12 else \n",
    "    'afternoon' if x.hour >= 12 and x.hour < 19 else 'night')"
   ]
  },
  {
   "cell_type": "code",
   "execution_count": 16,
   "id": "92fa8398",
   "metadata": {
    "scrolled": true
   },
   "outputs": [
    {
     "data": {
      "image/png": "[encoded data removed]",
      "text/plain": [
       "<Figure size 432x288 with 1 Axes>"
      ]
     },
     "metadata": {
      "needs_background": "light"
     },
     "output_type": "display_data"
    }
   ],
   "source": [
    "sns.histplot(df['high_season'])\n",
    "plt.show()"
   ]
  },
  {
   "cell_type": "markdown",
   "id": "2b0b3d3b",
   "metadata": {},
   "source": [
    "- La cantidad de vuelos en temporada alta es casi la mitad respecto a los on-time"
   ]
  },
  {
   "cell_type": "code",
   "execution_count": 17,
   "id": "1c2a6169",
   "metadata": {
    "scrolled": true
   },
   "outputs": [
    {
     "data": {
      "image/png": "[encoded data removed]",
      "text/plain": [
       "<Figure size 432x288 with 1 Axes>"
      ]
     },
     "metadata": {
      "needs_background": "light"
     },
     "output_type": "display_data"
    }
   ],
   "source": [
    "sns.histplot(df['min_diff'])\n",
    "plt.show()"
   ]
  },
  {
   "cell_type": "markdown",
   "id": "14c440b0",
   "metadata": {},
   "source": [
    "\n",
    "- La cantidad de vuelos en temporada alta es casi la mitad respecto a los on-time\n",
    "- Se observa una distribución normal con el 95% de los valores entre los 5-10 minutos de delay.\n",
    "- Se presenta mayor delay en los vuelos nacionales vs internacionales\n",
    "- La mayor cantidad de atrasos se genera durante la mañana y durante la tarde"
   ]
  },
  {
   "cell_type": "code",
   "execution_count": 18,
   "id": "404895c3",
   "metadata": {
    "scrolled": true
   },
   "outputs": [
    {
     "data": {
      "image/png": "[encoded data removed]",
      "text/plain": [
       "<Figure size 432x288 with 1 Axes>"
      ]
     },
     "metadata": {
      "needs_background": "light"
     },
     "output_type": "display_data"
    }
   ],
   "source": [
    "sns.histplot(df['delay_15'])\n",
    "plt.show()"
   ]
  },
  {
   "cell_type": "markdown",
   "id": "fdfe1530",
   "metadata": {},
   "source": [
    "- Se presenta mayor delay en los vuelos nacionales vs internacionales"
   ]
  },
  {
   "cell_type": "code",
   "execution_count": 19,
   "id": "e6949d15",
   "metadata": {},
   "outputs": [
    {
     "data": {
      "image/png": "[encoded data removed]",
      "text/plain": [
       "<Figure size 432x288 with 1 Axes>"
      ]
     },
     "metadata": {
      "needs_background": "light"
     },
     "output_type": "display_data"
    }
   ],
   "source": [
    "sns.histplot(df['period_day'])\n",
    "plt.show()"
   ]
  },
  {
   "cell_type": "markdown",
   "id": "9d846138",
   "metadata": {},
   "source": [
    "- La mayor cantidad de atrasos se genera durante la mañana y durante la tarde"
   ]
  },
  {
   "cell_type": "code",
   "execution_count": 20,
   "id": "0c03a8f4",
   "metadata": {},
   "outputs": [
    {
     "data": {
      "image/png": "[encoded data removed]",
      "text/plain": [
       "<Figure size 720x360 with 1 Axes>"
      ]
     },
     "metadata": {
      "needs_background": "light"
     },
     "output_type": "display_data"
    }
   ],
   "source": [
    "# Destination\n",
    "df_dest = df.groupby(\"Des-I\").agg(delay_rate=(\"delay_15\", \"mean\")).reset_index()\n",
    "plt.figure(figsize=(10,5))\n",
    "sns.barplot(data=df_dest, y=\"delay_rate\", x=\"Des-I\")\n",
    "plt.xticks(rotation=90)\n",
    "plt.tight_layout()\n",
    "plt.show()"
   ]
  },
  {
   "cell_type": "code",
   "execution_count": 21,
   "id": "fdf6bec0",
   "metadata": {},
   "outputs": [
    {
     "data": {
      "image/png": "[encoded data removed]",
      "text/plain": [
       "<Figure size 720x360 with 1 Axes>"
      ]
     },
     "metadata": {
      "needs_background": "light"
     },
     "output_type": "display_data"
    }
   ],
   "source": [
    "# Destination\n",
    "df_dest = df.groupby(\"SIGLADES\").agg(delay_rate=(\"delay_15\", \"mean\")).reset_index()\n",
    "plt.figure(figsize=(10,5))\n",
    "sns.barplot(data=df_dest, y=\"delay_rate\", x=\"SIGLADES\")\n",
    "plt.xticks(rotation=90)\n",
    "plt.tight_layout()\n",
    "plt.show()"
   ]
  },
  {
   "cell_type": "markdown",
   "id": "2263b61d",
   "metadata": {},
   "source": [
    "Se visualiza que los destinos con mayor tasa de atraso (delay_rate) son:\n",
    "- EQYP (FALKLAND - UK)\n",
    "- SEQM (Sucre - Quito - ECUADOR)\n",
    "- SLCB (Cochabamba - BOLIVIA)\n",
    "- SAWH (USHUAIA - ARGENTINA)\n",
    "- YMML (MELBOURNE - AUSTRALIA)\n",
    "- YSSY (SYDNEY - AUSTRALIA)\n",
    "- SAZS (BARILOCHE - ARGENTINA)\n",
    "\n",
    "Esto será de interés para analizar la información meteorológica (APIs) de los destinos con atrasos mas relevantes\n",
    "\n",
    "Además, las con menor tasa de retraso son:\n",
    "- Pisco, PER\n",
    "- Washington, USA\n",
    "- Curitiba, BRA"
   ]
  },
  {
   "cell_type": "code",
   "execution_count": 22,
   "id": "5344ceed",
   "metadata": {},
   "outputs": [
    {
     "data": {
      "image/png": "[encoded data removed]",
      "text/plain": [
       "<Figure size 432x288 with 1 Axes>"
      ]
     },
     "metadata": {
      "needs_background": "light"
     },
     "output_type": "display_data"
    }
   ],
   "source": [
    "# Airline\n",
    "df_airline = df.groupby(\"Emp-I\").agg(delay_rate=(\"delay_15\", \"mean\")).reset_index()\n",
    "sns.barplot(data=df_airline, x=\"Emp-I\", y=\"delay_rate\")\n",
    "plt.xticks(rotation=90)\n",
    "plt.show()"
   ]
  },
  {
   "cell_type": "markdown",
   "id": "38ec1c9e",
   "metadata": {},
   "source": [
    "Las aerolíneas con la mayor tasa de delays son:\n",
    "- DSM\n",
    "- LNE\n",
    "- LXP\n",
    "- PUE\n",
    "- QFU"
   ]
  },
  {
   "cell_type": "code",
   "execution_count": 23,
   "id": "737a5405",
   "metadata": {
    "scrolled": true
   },
   "outputs": [
    {
     "data": {
      "image/png": "[encoded data removed]",
      "text/plain": [
       "<Figure size 432x288 with 1 Axes>"
      ]
     },
     "metadata": {
      "needs_background": "light"
     },
     "output_type": "display_data"
    }
   ],
   "source": [
    "df_month = df.groupby(\"MES\").agg(delay_rate=(\"delay_15\", \"mean\")).reset_index()\n",
    "sns.barplot(data=df_month, x=\"MES\", y=\"delay_rate\")\n",
    "plt.xticks(rotation=90)\n",
    "plt.show()"
   ]
  },
  {
   "cell_type": "markdown",
   "id": "7744d5ba",
   "metadata": {},
   "source": [
    "- Los meses con la mayor cantidad de atrasos es Julio.\n",
    "- Seguido por Diciembre"
   ]
  },
  {
   "cell_type": "code",
   "execution_count": 24,
   "id": "acc4d0cd",
   "metadata": {
    "scrolled": false
   },
   "outputs": [
    {
     "data": {
      "image/png": "[encoded data removed]",
      "text/plain": [
       "<Figure size 432x288 with 1 Axes>"
      ]
     },
     "metadata": {
      "needs_background": "light"
     },
     "output_type": "display_data"
    }
   ],
   "source": [
    "df_month = df.groupby(\"DIANOM\").agg(delay_rate=(\"delay_15\", \"mean\")).reset_index()\n",
    "sns.barplot(data=df_month, x=\"DIANOM\", y=\"delay_rate\")\n",
    "plt.xticks(rotation=90)\n",
    "plt.show()"
   ]
  },
  {
   "cell_type": "markdown",
   "id": "0de7412e",
   "metadata": {},
   "source": [
    "- Los días Viernes hay mayor tasa de delays"
   ]
  },
  {
   "cell_type": "code",
   "execution_count": 25,
   "id": "23a099c2",
   "metadata": {
    "scrolled": false
   },
   "outputs": [
    {
     "data": {
      "image/png": "[encoded data removed]",
      "text/plain": [
       "<Figure size 432x288 with 1 Axes>"
      ]
     },
     "metadata": {
      "needs_background": "light"
     },
     "output_type": "display_data"
    }
   ],
   "source": [
    "df_month = df.groupby(\"high_season\").agg(delay_rate=(\"delay_15\", \"mean\")).reset_index()\n",
    "sns.barplot(data=df_month, x=\"high_season\", y=\"delay_rate\")\n",
    "plt.show()"
   ]
  },
  {
   "cell_type": "markdown",
   "id": "788e3a11",
   "metadata": {},
   "source": [
    "- Hay mayor tasa de atrasos en temporada alta vs temporada baja"
   ]
  },
  {
   "cell_type": "code",
   "execution_count": 26,
   "id": "3c8558c5",
   "metadata": {
    "scrolled": true
   },
   "outputs": [
    {
     "data": {
      "image/png": "[encoded data removed]",
      "text/plain": [
       "<Figure size 432x288 with 1 Axes>"
      ]
     },
     "metadata": {
      "needs_background": "light"
     },
     "output_type": "display_data"
    }
   ],
   "source": [
    "df_month = df.groupby(\"TIPOVUELO\").agg(delay_rate=(\"delay_15\", \"mean\")).reset_index()\n",
    "sns.barplot(data=df_month, x=\"TIPOVUELO\", y=\"delay_rate\")\n",
    "plt.show()"
   ]
  },
  {
   "cell_type": "markdown",
   "id": "14d01bac",
   "metadata": {},
   "source": [
    "- Se observa mayor cantidad de atrasos en vuelos internacionales vs nacionales"
   ]
  },
  {
   "cell_type": "code",
   "execution_count": 27,
   "id": "996ecf62",
   "metadata": {
    "scrolled": true
   },
   "outputs": [
    {
     "name": "stdout",
     "output_type": "stream",
     "text": [
      "Des-I  Emp-I  MES  DIANOM     high_season  TIPOVUELO\n",
      "CYYZ   ACA    1    Domingo    1            I            0.600000\n",
      "                   Jueves     1            I            0.333333\n",
      "                   Lunes      1            I            0.800000\n",
      "                   Martes     1            I            0.750000\n",
      "                   Miercoles  1            I            0.750000\n",
      "                                                          ...   \n",
      "YSSY   QFU    12   Miercoles  0            I            1.000000\n",
      "                              1            I            1.000000\n",
      "                   Sabado     1            I            1.000000\n",
      "                   Viernes    0            I            1.000000\n",
      "                              1            I            0.666667\n",
      "Name: delay_15, Length: 8165, dtype: float64\n"
     ]
    }
   ],
   "source": [
    "# Step 4: Analyze the delay rate across different variables\n",
    "delay_rates = df.groupby(['Des-I', 'Emp-I', 'MES', 'DIANOM', 'high_season', 'TIPOVUELO'])['delay_15'].mean()\n",
    "print(delay_rates)\n"
   ]
  },
  {
   "cell_type": "code",
   "execution_count": 28,
   "id": "13ad7f79",
   "metadata": {},
   "outputs": [
    {
     "name": "stdout",
     "output_type": "stream",
     "text": [
      "<class 'pandas.core.frame.DataFrame'>\n",
      "RangeIndex: 68206 entries, 0 to 68205\n",
      "Data columns (total 22 columns):\n",
      " #   Column       Non-Null Count  Dtype \n",
      "---  ------       --------------  ----- \n",
      " 0   Fecha-I      68206 non-null  object\n",
      " 1   Vlo-I        68206 non-null  object\n",
      " 2   Ori-I        68206 non-null  object\n",
      " 3   Des-I        68206 non-null  object\n",
      " 4   Emp-I        68206 non-null  object\n",
      " 5   Fecha-O      68206 non-null  object\n",
      " 6   Vlo-O        68205 non-null  object\n",
      " 7   Ori-O        68206 non-null  object\n",
      " 8   Des-O        68206 non-null  object\n",
      " 9   Emp-O        68206 non-null  object\n",
      " 10  DIA          68206 non-null  int64 \n",
      " 11  MES          68206 non-null  int64 \n",
      " 12  AÑO          68206 non-null  int64 \n",
      " 13  DIANOM       68206 non-null  object\n",
      " 14  TIPOVUELO    68206 non-null  object\n",
      " 15  OPERA        68206 non-null  object\n",
      " 16  SIGLAORI     68206 non-null  object\n",
      " 17  SIGLADES     68206 non-null  object\n",
      " 18  high_season  68206 non-null  int64 \n",
      " 19  min_diff     68206 non-null  int64 \n",
      " 20  delay_15     68206 non-null  int64 \n",
      " 21  period_day   68206 non-null  object\n",
      "dtypes: int64(6), object(16)\n",
      "memory usage: 11.4+ MB\n"
     ]
    }
   ],
   "source": [
    "df.info()"
   ]
  },
  {
   "cell_type": "markdown",
   "id": "c3190a64",
   "metadata": {},
   "source": [
    "## Encode Categorical features"
   ]
  },
  {
   "cell_type": "code",
   "execution_count": 29,
   "id": "cc4e3967",
   "metadata": {},
   "outputs": [],
   "source": [
    "df.drop(['Vlo-I', 'Ori-I', 'Des-I', 'Vlo-O', 'Ori-O', 'Des-O'], axis=1, inplace=True)\n"
   ]
  },
  {
   "cell_type": "markdown",
   "id": "2994fe3c",
   "metadata": {},
   "source": [
    "- Convertir las columnas de fechas a formato datetime"
   ]
  },
  {
   "cell_type": "code",
   "execution_count": 30,
   "id": "462905ba",
   "metadata": {},
   "outputs": [
    {
     "data": {
      "text/plain": [
       "0    2017-01-01 23:30:00\n",
       "1    2017-01-02 23:30:00\n",
       "2    2017-01-03 23:30:00\n",
       "3    2017-01-04 23:30:00\n",
       "4    2017-01-05 23:30:00\n",
       "Name: Fecha-I, dtype: object"
      ]
     },
     "execution_count": 30,
     "metadata": {},
     "output_type": "execute_result"
    }
   ],
   "source": [
    "df['Fecha-I'].head()"
   ]
  },
  {
   "cell_type": "code",
   "execution_count": 31,
   "id": "c670a160",
   "metadata": {},
   "outputs": [
    {
     "data": {
      "text/plain": [
       "0   2017-01-01 23:30:00\n",
       "1   2017-01-02 23:30:00\n",
       "2   2017-01-03 23:30:00\n",
       "3   2017-01-04 23:30:00\n",
       "4   2017-01-05 23:30:00\n",
       "Name: Fecha-I, dtype: datetime64[ns]"
      ]
     },
     "execution_count": 31,
     "metadata": {},
     "output_type": "execute_result"
    }
   ],
   "source": [
    "df['Fecha-I'] = pd.to_datetime(df['Fecha-I'], format='%Y-%m-%d %H:%M:%S')\n",
    "df['Fecha-I'].head()"
   ]
  },
  {
   "cell_type": "code",
   "execution_count": 32,
   "id": "c2d420d6",
   "metadata": {
    "scrolled": true
   },
   "outputs": [
    {
     "data": {
      "text/plain": [
       "0    2017-01-01 23:33:00\n",
       "1    2017-01-02 23:39:00\n",
       "2    2017-01-03 23:39:00\n",
       "3    2017-01-04 23:33:00\n",
       "4    2017-01-05 23:28:00\n",
       "Name: Fecha-O, dtype: object"
      ]
     },
     "execution_count": 32,
     "metadata": {},
     "output_type": "execute_result"
    }
   ],
   "source": [
    "df['Fecha-O'].head()\n"
   ]
  },
  {
   "cell_type": "code",
   "execution_count": 33,
   "id": "6c5f3291",
   "metadata": {},
   "outputs": [],
   "source": [
    "df['Fecha-O'] = pd.to_datetime(df['Fecha-O'], format='%Y-%m-%d %H:%M:%S')"
   ]
  },
  {
   "cell_type": "code",
   "execution_count": 34,
   "id": "25a517c5",
   "metadata": {},
   "outputs": [
    {
     "data": {
      "text/plain": [
       "0   2017-01-01 23:33:00\n",
       "1   2017-01-02 23:39:00\n",
       "2   2017-01-03 23:39:00\n",
       "3   2017-01-04 23:33:00\n",
       "4   2017-01-05 23:28:00\n",
       "Name: Fecha-O, dtype: datetime64[ns]"
      ]
     },
     "execution_count": 34,
     "metadata": {},
     "output_type": "execute_result"
    }
   ],
   "source": [
    "df['Fecha-O'].head()"
   ]
  },
  {
   "cell_type": "markdown",
   "id": "a468f0c9",
   "metadata": {},
   "source": [
    "- Calcular el número de día del año 2017 (fecha de referencia: 01-01-2017)"
   ]
  },
  {
   "cell_type": "code",
   "execution_count": 35,
   "id": "bc1a99b3",
   "metadata": {},
   "outputs": [
    {
     "data": {
      "text/plain": [
       "0    0.0\n",
       "1    1.0\n",
       "2    2.0\n",
       "3    3.0\n",
       "4    4.0\n",
       "Name: Fecha-I, dtype: float64"
      ]
     },
     "execution_count": 35,
     "metadata": {},
     "output_type": "execute_result"
    }
   ],
   "source": [
    "df['Fecha-I'] = (df['Fecha-I'] - pd.to_datetime('2017-01-01')).dt.days.astype(float)\n",
    "df['Fecha-I'].head()"
   ]
  },
  {
   "cell_type": "code",
   "execution_count": 36,
   "id": "abf44cc7",
   "metadata": {},
   "outputs": [],
   "source": [
    "df['Fecha-O'] = (df['Fecha-O'] - pd.to_datetime('2017-01-01')).dt.days.astype(float)"
   ]
  },
  {
   "cell_type": "code",
   "execution_count": 37,
   "id": "c96b01e0",
   "metadata": {},
   "outputs": [
    {
     "name": "stdout",
     "output_type": "stream",
     "text": [
      "<class 'pandas.core.frame.DataFrame'>\n",
      "RangeIndex: 68206 entries, 0 to 68205\n",
      "Data columns (total 16 columns):\n",
      " #   Column       Non-Null Count  Dtype  \n",
      "---  ------       --------------  -----  \n",
      " 0   Fecha-I      68206 non-null  float64\n",
      " 1   Emp-I        68206 non-null  object \n",
      " 2   Fecha-O      68206 non-null  float64\n",
      " 3   Emp-O        68206 non-null  object \n",
      " 4   DIA          68206 non-null  int64  \n",
      " 5   MES          68206 non-null  int64  \n",
      " 6   AÑO          68206 non-null  int64  \n",
      " 7   DIANOM       68206 non-null  object \n",
      " 8   TIPOVUELO    68206 non-null  object \n",
      " 9   OPERA        68206 non-null  object \n",
      " 10  SIGLAORI     68206 non-null  object \n",
      " 11  SIGLADES     68206 non-null  object \n",
      " 12  high_season  68206 non-null  int64  \n",
      " 13  min_diff     68206 non-null  int64  \n",
      " 14  delay_15     68206 non-null  int64  \n",
      " 15  period_day   68206 non-null  object \n",
      "dtypes: float64(2), int64(6), object(8)\n",
      "memory usage: 8.3+ MB\n"
     ]
    }
   ],
   "source": [
    "df.info()"
   ]
  },
  {
   "cell_type": "code",
   "execution_count": 38,
   "id": "66582f7b",
   "metadata": {},
   "outputs": [
    {
     "data": {
      "text/html": [
       "<div>\n",
       "<style scoped>\n",
       "    .dataframe tbody tr th:only-of-type {\n",
       "        vertical-align: middle;\n",
       "    }\n",
       "\n",
       "    .dataframe tbody tr th {\n",
       "        vertical-align: top;\n",
       "    }\n",
       "\n",
       "    .dataframe thead th {\n",
       "        text-align: right;\n",
       "    }\n",
       "</style>\n",
       "<table border=\"1\" class=\"dataframe\">\n",
       "  <thead>\n",
       "    <tr style=\"text-align: right;\">\n",
       "      <th></th>\n",
       "      <th>Fecha-I</th>\n",
       "      <th>Emp-I</th>\n",
       "      <th>Fecha-O</th>\n",
       "      <th>Emp-O</th>\n",
       "      <th>DIA</th>\n",
       "      <th>MES</th>\n",
       "      <th>AÑO</th>\n",
       "      <th>DIANOM</th>\n",
       "      <th>TIPOVUELO</th>\n",
       "      <th>OPERA</th>\n",
       "      <th>SIGLAORI</th>\n",
       "      <th>SIGLADES</th>\n",
       "      <th>high_season</th>\n",
       "      <th>min_diff</th>\n",
       "      <th>delay_15</th>\n",
       "      <th>period_day</th>\n",
       "    </tr>\n",
       "  </thead>\n",
       "  <tbody>\n",
       "    <tr>\n",
       "      <th>0</th>\n",
       "      <td>0.0</td>\n",
       "      <td>AAL</td>\n",
       "      <td>0.0</td>\n",
       "      <td>AAL</td>\n",
       "      <td>1</td>\n",
       "      <td>1</td>\n",
       "      <td>2017</td>\n",
       "      <td>Domingo</td>\n",
       "      <td>I</td>\n",
       "      <td>American Airlines</td>\n",
       "      <td>Santiago</td>\n",
       "      <td>Miami</td>\n",
       "      <td>1</td>\n",
       "      <td>3</td>\n",
       "      <td>0</td>\n",
       "      <td>night</td>\n",
       "    </tr>\n",
       "    <tr>\n",
       "      <th>1</th>\n",
       "      <td>1.0</td>\n",
       "      <td>AAL</td>\n",
       "      <td>1.0</td>\n",
       "      <td>AAL</td>\n",
       "      <td>2</td>\n",
       "      <td>1</td>\n",
       "      <td>2017</td>\n",
       "      <td>Lunes</td>\n",
       "      <td>I</td>\n",
       "      <td>American Airlines</td>\n",
       "      <td>Santiago</td>\n",
       "      <td>Miami</td>\n",
       "      <td>1</td>\n",
       "      <td>9</td>\n",
       "      <td>0</td>\n",
       "      <td>night</td>\n",
       "    </tr>\n",
       "    <tr>\n",
       "      <th>2</th>\n",
       "      <td>2.0</td>\n",
       "      <td>AAL</td>\n",
       "      <td>2.0</td>\n",
       "      <td>AAL</td>\n",
       "      <td>3</td>\n",
       "      <td>1</td>\n",
       "      <td>2017</td>\n",
       "      <td>Martes</td>\n",
       "      <td>I</td>\n",
       "      <td>American Airlines</td>\n",
       "      <td>Santiago</td>\n",
       "      <td>Miami</td>\n",
       "      <td>1</td>\n",
       "      <td>9</td>\n",
       "      <td>0</td>\n",
       "      <td>night</td>\n",
       "    </tr>\n",
       "    <tr>\n",
       "      <th>3</th>\n",
       "      <td>3.0</td>\n",
       "      <td>AAL</td>\n",
       "      <td>3.0</td>\n",
       "      <td>AAL</td>\n",
       "      <td>4</td>\n",
       "      <td>1</td>\n",
       "      <td>2017</td>\n",
       "      <td>Miercoles</td>\n",
       "      <td>I</td>\n",
       "      <td>American Airlines</td>\n",
       "      <td>Santiago</td>\n",
       "      <td>Miami</td>\n",
       "      <td>1</td>\n",
       "      <td>3</td>\n",
       "      <td>0</td>\n",
       "      <td>night</td>\n",
       "    </tr>\n",
       "    <tr>\n",
       "      <th>4</th>\n",
       "      <td>4.0</td>\n",
       "      <td>AAL</td>\n",
       "      <td>4.0</td>\n",
       "      <td>AAL</td>\n",
       "      <td>5</td>\n",
       "      <td>1</td>\n",
       "      <td>2017</td>\n",
       "      <td>Jueves</td>\n",
       "      <td>I</td>\n",
       "      <td>American Airlines</td>\n",
       "      <td>Santiago</td>\n",
       "      <td>Miami</td>\n",
       "      <td>1</td>\n",
       "      <td>-2</td>\n",
       "      <td>0</td>\n",
       "      <td>night</td>\n",
       "    </tr>\n",
       "  </tbody>\n",
       "</table>\n",
       "</div>"
      ],
      "text/plain": [
       "   Fecha-I Emp-I  Fecha-O Emp-O  DIA  MES   AÑO     DIANOM TIPOVUELO  \\\n",
       "0      0.0   AAL      0.0   AAL    1    1  2017    Domingo         I   \n",
       "1      1.0   AAL      1.0   AAL    2    1  2017      Lunes         I   \n",
       "2      2.0   AAL      2.0   AAL    3    1  2017     Martes         I   \n",
       "3      3.0   AAL      3.0   AAL    4    1  2017  Miercoles         I   \n",
       "4      4.0   AAL      4.0   AAL    5    1  2017     Jueves         I   \n",
       "\n",
       "               OPERA  SIGLAORI SIGLADES  high_season  min_diff  delay_15  \\\n",
       "0  American Airlines  Santiago    Miami            1         3         0   \n",
       "1  American Airlines  Santiago    Miami            1         9         0   \n",
       "2  American Airlines  Santiago    Miami            1         9         0   \n",
       "3  American Airlines  Santiago    Miami            1         3         0   \n",
       "4  American Airlines  Santiago    Miami            1        -2         0   \n",
       "\n",
       "  period_day  \n",
       "0      night  \n",
       "1      night  \n",
       "2      night  \n",
       "3      night  \n",
       "4      night  "
      ]
     },
     "execution_count": 38,
     "metadata": {},
     "output_type": "execute_result"
    }
   ],
   "source": [
    "df.head()"
   ]
  },
  {
   "cell_type": "markdown",
   "id": "a0c371fa",
   "metadata": {},
   "source": [
    "## export them to a CSV file named synthetic_features.csv:"
   ]
  },
  {
   "cell_type": "code",
   "execution_count": 39,
   "id": "67f4fb50",
   "metadata": {},
   "outputs": [],
   "source": [
    "df.to_csv('synthetic_features.csv')"
   ]
  },
  {
   "cell_type": "markdown",
   "id": "2943bd88",
   "metadata": {},
   "source": [
    "## Transformación del formato Fecha-I del dataset al formato original"
   ]
  },
  {
   "cell_type": "code",
   "execution_count": 40,
   "id": "a6be5a3c",
   "metadata": {},
   "outputs": [],
   "source": [
    "merged_df = df.copy()"
   ]
  },
  {
   "cell_type": "code",
   "execution_count": 41,
   "id": "bc647e31",
   "metadata": {
    "scrolled": true
   },
   "outputs": [
    {
     "data": {
      "text/plain": [
       "0    0.0\n",
       "1    1.0\n",
       "2    2.0\n",
       "3    3.0\n",
       "4    4.0\n",
       "Name: Fecha-I, dtype: float64"
      ]
     },
     "execution_count": 41,
     "metadata": {},
     "output_type": "execute_result"
    }
   ],
   "source": [
    "merged_df['Fecha-I'].head()"
   ]
  },
  {
   "cell_type": "code",
   "execution_count": 42,
   "id": "a39be259",
   "metadata": {},
   "outputs": [],
   "source": [
    "#conversion de float64 a int\n",
    "merged_df['Fecha-I'] = merged_df['Fecha-I'].astype(int)\n"
   ]
  },
  {
   "cell_type": "code",
   "execution_count": 43,
   "id": "df6b9211",
   "metadata": {},
   "outputs": [],
   "source": [
    "#conversion a datetime64\n",
    "merged_df['Fecha-I'] = pd.to_datetime(merged_df['Fecha-I'])"
   ]
  },
  {
   "cell_type": "code",
   "execution_count": 44,
   "id": "eb1e3d0a",
   "metadata": {
    "scrolled": false
   },
   "outputs": [
    {
     "data": {
      "text/plain": [
       "0   1970-01-01 00:00:00.000000000\n",
       "1   1970-01-01 00:00:00.000000001\n",
       "2   1970-01-01 00:00:00.000000002\n",
       "3   1970-01-01 00:00:00.000000003\n",
       "4   1970-01-01 00:00:00.000000004\n",
       "Name: Fecha-I, dtype: datetime64[ns]"
      ]
     },
     "execution_count": 44,
     "metadata": {},
     "output_type": "execute_result"
    }
   ],
   "source": [
    "merged_df['Fecha-I'].head()"
   ]
  },
  {
   "cell_type": "markdown",
   "id": "b252ff96",
   "metadata": {},
   "source": [
    "## Adds weather information for the airports with the most representative delays, for each day of 2017. "
   ]
  },
  {
   "cell_type": "markdown",
   "id": "ca9410c2",
   "metadata": {},
   "source": [
    "- API information from OpenWeatherMap\n",
    "- Merge with date from original dataset + weather date\n",
    "\n",
    "- Run API_weather.ipynb \n",
    "- CSV with original dataset + weather: vuelos_con_meteorologia.csv"
   ]
  },
  {
   "cell_type": "markdown",
   "id": "d9225fd2",
   "metadata": {},
   "source": [
    "- Luego de realizar el merge y guardar en CSV: vuelos_con_meteorologia.csv, se puede realizar análisis exploratorio:"
   ]
  },
  {
   "cell_type": "code",
   "execution_count": 45,
   "id": "6dfc1108",
   "metadata": {},
   "outputs": [],
   "source": [
    "#df_with_weather=pd.DataFrame(pd.read_csv(\"/home/fernando/code/lugerlakes/latam/dataset_SCL.csv\"))"
   ]
  },
  {
   "cell_type": "code",
   "execution_count": 46,
   "id": "f93fb80b",
   "metadata": {
    "scrolled": false
   },
   "outputs": [
    {
     "data": {
      "text/html": [
       "<div>\n",
       "<style scoped>\n",
       "    .dataframe tbody tr th:only-of-type {\n",
       "        vertical-align: middle;\n",
       "    }\n",
       "\n",
       "    .dataframe tbody tr th {\n",
       "        vertical-align: top;\n",
       "    }\n",
       "\n",
       "    .dataframe thead th {\n",
       "        text-align: right;\n",
       "    }\n",
       "</style>\n",
       "<table border=\"1\" class=\"dataframe\">\n",
       "  <thead>\n",
       "    <tr style=\"text-align: right;\">\n",
       "      <th></th>\n",
       "      <th>Fecha-I</th>\n",
       "      <th>Emp-I</th>\n",
       "      <th>Fecha-O</th>\n",
       "      <th>Emp-O</th>\n",
       "      <th>DIA</th>\n",
       "      <th>MES</th>\n",
       "      <th>AÑO</th>\n",
       "      <th>DIANOM</th>\n",
       "      <th>TIPOVUELO</th>\n",
       "      <th>OPERA</th>\n",
       "      <th>SIGLAORI</th>\n",
       "      <th>SIGLADES</th>\n",
       "      <th>high_season</th>\n",
       "      <th>min_diff</th>\n",
       "      <th>delay_15</th>\n",
       "      <th>period_day</th>\n",
       "    </tr>\n",
       "  </thead>\n",
       "  <tbody>\n",
       "    <tr>\n",
       "      <th>0</th>\n",
       "      <td>1970-01-01 00:00:00.000000000</td>\n",
       "      <td>AAL</td>\n",
       "      <td>0.0</td>\n",
       "      <td>AAL</td>\n",
       "      <td>1</td>\n",
       "      <td>1</td>\n",
       "      <td>2017</td>\n",
       "      <td>Domingo</td>\n",
       "      <td>I</td>\n",
       "      <td>American Airlines</td>\n",
       "      <td>Santiago</td>\n",
       "      <td>Miami</td>\n",
       "      <td>1</td>\n",
       "      <td>3</td>\n",
       "      <td>0</td>\n",
       "      <td>night</td>\n",
       "    </tr>\n",
       "    <tr>\n",
       "      <th>1</th>\n",
       "      <td>1970-01-01 00:00:00.000000001</td>\n",
       "      <td>AAL</td>\n",
       "      <td>1.0</td>\n",
       "      <td>AAL</td>\n",
       "      <td>2</td>\n",
       "      <td>1</td>\n",
       "      <td>2017</td>\n",
       "      <td>Lunes</td>\n",
       "      <td>I</td>\n",
       "      <td>American Airlines</td>\n",
       "      <td>Santiago</td>\n",
       "      <td>Miami</td>\n",
       "      <td>1</td>\n",
       "      <td>9</td>\n",
       "      <td>0</td>\n",
       "      <td>night</td>\n",
       "    </tr>\n",
       "    <tr>\n",
       "      <th>2</th>\n",
       "      <td>1970-01-01 00:00:00.000000002</td>\n",
       "      <td>AAL</td>\n",
       "      <td>2.0</td>\n",
       "      <td>AAL</td>\n",
       "      <td>3</td>\n",
       "      <td>1</td>\n",
       "      <td>2017</td>\n",
       "      <td>Martes</td>\n",
       "      <td>I</td>\n",
       "      <td>American Airlines</td>\n",
       "      <td>Santiago</td>\n",
       "      <td>Miami</td>\n",
       "      <td>1</td>\n",
       "      <td>9</td>\n",
       "      <td>0</td>\n",
       "      <td>night</td>\n",
       "    </tr>\n",
       "    <tr>\n",
       "      <th>3</th>\n",
       "      <td>1970-01-01 00:00:00.000000003</td>\n",
       "      <td>AAL</td>\n",
       "      <td>3.0</td>\n",
       "      <td>AAL</td>\n",
       "      <td>4</td>\n",
       "      <td>1</td>\n",
       "      <td>2017</td>\n",
       "      <td>Miercoles</td>\n",
       "      <td>I</td>\n",
       "      <td>American Airlines</td>\n",
       "      <td>Santiago</td>\n",
       "      <td>Miami</td>\n",
       "      <td>1</td>\n",
       "      <td>3</td>\n",
       "      <td>0</td>\n",
       "      <td>night</td>\n",
       "    </tr>\n",
       "    <tr>\n",
       "      <th>4</th>\n",
       "      <td>1970-01-01 00:00:00.000000004</td>\n",
       "      <td>AAL</td>\n",
       "      <td>4.0</td>\n",
       "      <td>AAL</td>\n",
       "      <td>5</td>\n",
       "      <td>1</td>\n",
       "      <td>2017</td>\n",
       "      <td>Jueves</td>\n",
       "      <td>I</td>\n",
       "      <td>American Airlines</td>\n",
       "      <td>Santiago</td>\n",
       "      <td>Miami</td>\n",
       "      <td>1</td>\n",
       "      <td>-2</td>\n",
       "      <td>0</td>\n",
       "      <td>night</td>\n",
       "    </tr>\n",
       "  </tbody>\n",
       "</table>\n",
       "</div>"
      ],
      "text/plain": [
       "                        Fecha-I Emp-I  Fecha-O Emp-O  DIA  MES   AÑO  \\\n",
       "0 1970-01-01 00:00:00.000000000   AAL      0.0   AAL    1    1  2017   \n",
       "1 1970-01-01 00:00:00.000000001   AAL      1.0   AAL    2    1  2017   \n",
       "2 1970-01-01 00:00:00.000000002   AAL      2.0   AAL    3    1  2017   \n",
       "3 1970-01-01 00:00:00.000000003   AAL      3.0   AAL    4    1  2017   \n",
       "4 1970-01-01 00:00:00.000000004   AAL      4.0   AAL    5    1  2017   \n",
       "\n",
       "      DIANOM TIPOVUELO              OPERA  SIGLAORI SIGLADES  high_season  \\\n",
       "0    Domingo         I  American Airlines  Santiago    Miami            1   \n",
       "1      Lunes         I  American Airlines  Santiago    Miami            1   \n",
       "2     Martes         I  American Airlines  Santiago    Miami            1   \n",
       "3  Miercoles         I  American Airlines  Santiago    Miami            1   \n",
       "4     Jueves         I  American Airlines  Santiago    Miami            1   \n",
       "\n",
       "   min_diff  delay_15 period_day  \n",
       "0         3         0      night  \n",
       "1         9         0      night  \n",
       "2         9         0      night  \n",
       "3         3         0      night  \n",
       "4        -2         0      night  "
      ]
     },
     "execution_count": 46,
     "metadata": {},
     "output_type": "execute_result"
    }
   ],
   "source": [
    "merged_df.head()"
   ]
  },
  {
   "cell_type": "code",
   "execution_count": 47,
   "id": "6c2bbd9a",
   "metadata": {
    "scrolled": false
   },
   "outputs": [
    {
     "name": "stdout",
     "output_type": "stream",
     "text": [
      "<class 'pandas.core.frame.DataFrame'>\n",
      "RangeIndex: 68206 entries, 0 to 68205\n",
      "Data columns (total 16 columns):\n",
      " #   Column       Non-Null Count  Dtype         \n",
      "---  ------       --------------  -----         \n",
      " 0   Fecha-I      68206 non-null  datetime64[ns]\n",
      " 1   Emp-I        68206 non-null  object        \n",
      " 2   Fecha-O      68206 non-null  float64       \n",
      " 3   Emp-O        68206 non-null  object        \n",
      " 4   DIA          68206 non-null  int64         \n",
      " 5   MES          68206 non-null  int64         \n",
      " 6   AÑO          68206 non-null  int64         \n",
      " 7   DIANOM       68206 non-null  object        \n",
      " 8   TIPOVUELO    68206 non-null  object        \n",
      " 9   OPERA        68206 non-null  object        \n",
      " 10  SIGLAORI     68206 non-null  object        \n",
      " 11  SIGLADES     68206 non-null  object        \n",
      " 12  high_season  68206 non-null  int64         \n",
      " 13  min_diff     68206 non-null  int64         \n",
      " 14  delay_15     68206 non-null  int64         \n",
      " 15  period_day   68206 non-null  object        \n",
      "dtypes: datetime64[ns](1), float64(1), int64(6), object(8)\n",
      "memory usage: 8.3+ MB\n"
     ]
    }
   ],
   "source": [
    "merged_df.info()"
   ]
  },
  {
   "cell_type": "code",
   "execution_count": 48,
   "id": "8a2f401a",
   "metadata": {
    "scrolled": true
   },
   "outputs": [
    {
     "data": {
      "text/html": [
       "<div>\n",
       "<style scoped>\n",
       "    .dataframe tbody tr th:only-of-type {\n",
       "        vertical-align: middle;\n",
       "    }\n",
       "\n",
       "    .dataframe tbody tr th {\n",
       "        vertical-align: top;\n",
       "    }\n",
       "\n",
       "    .dataframe thead th {\n",
       "        text-align: right;\n",
       "    }\n",
       "</style>\n",
       "<table border=\"1\" class=\"dataframe\">\n",
       "  <thead>\n",
       "    <tr style=\"text-align: right;\">\n",
       "      <th></th>\n",
       "      <th>Fecha-O</th>\n",
       "      <th>DIA</th>\n",
       "      <th>MES</th>\n",
       "      <th>AÑO</th>\n",
       "      <th>high_season</th>\n",
       "      <th>min_diff</th>\n",
       "      <th>delay_15</th>\n",
       "    </tr>\n",
       "  </thead>\n",
       "  <tbody>\n",
       "    <tr>\n",
       "      <th>count</th>\n",
       "      <td>68206.000000</td>\n",
       "      <td>68206.000000</td>\n",
       "      <td>68206.000000</td>\n",
       "      <td>68206.000000</td>\n",
       "      <td>68206.000000</td>\n",
       "      <td>68206.000000</td>\n",
       "      <td>68206.000000</td>\n",
       "    </tr>\n",
       "    <tr>\n",
       "      <th>mean</th>\n",
       "      <td>184.974885</td>\n",
       "      <td>15.714790</td>\n",
       "      <td>6.622585</td>\n",
       "      <td>2017.000029</td>\n",
       "      <td>0.333724</td>\n",
       "      <td>9.110855</td>\n",
       "      <td>0.184940</td>\n",
       "    </tr>\n",
       "    <tr>\n",
       "      <th>std</th>\n",
       "      <td>107.655445</td>\n",
       "      <td>8.782886</td>\n",
       "      <td>3.523321</td>\n",
       "      <td>0.005415</td>\n",
       "      <td>0.471546</td>\n",
       "      <td>19.313387</td>\n",
       "      <td>0.388252</td>\n",
       "    </tr>\n",
       "    <tr>\n",
       "      <th>min</th>\n",
       "      <td>0.000000</td>\n",
       "      <td>1.000000</td>\n",
       "      <td>1.000000</td>\n",
       "      <td>2017.000000</td>\n",
       "      <td>0.000000</td>\n",
       "      <td>-14.000000</td>\n",
       "      <td>0.000000</td>\n",
       "    </tr>\n",
       "    <tr>\n",
       "      <th>25%</th>\n",
       "      <td>89.000000</td>\n",
       "      <td>8.000000</td>\n",
       "      <td>3.000000</td>\n",
       "      <td>2017.000000</td>\n",
       "      <td>0.000000</td>\n",
       "      <td>-1.000000</td>\n",
       "      <td>0.000000</td>\n",
       "    </tr>\n",
       "    <tr>\n",
       "      <th>50%</th>\n",
       "      <td>190.000000</td>\n",
       "      <td>16.000000</td>\n",
       "      <td>7.000000</td>\n",
       "      <td>2017.000000</td>\n",
       "      <td>0.000000</td>\n",
       "      <td>4.000000</td>\n",
       "      <td>0.000000</td>\n",
       "    </tr>\n",
       "    <tr>\n",
       "      <th>75%</th>\n",
       "      <td>280.000000</td>\n",
       "      <td>23.000000</td>\n",
       "      <td>10.000000</td>\n",
       "      <td>2017.000000</td>\n",
       "      <td>1.000000</td>\n",
       "      <td>12.000000</td>\n",
       "      <td>0.000000</td>\n",
       "    </tr>\n",
       "    <tr>\n",
       "      <th>max</th>\n",
       "      <td>365.000000</td>\n",
       "      <td>31.000000</td>\n",
       "      <td>12.000000</td>\n",
       "      <td>2018.000000</td>\n",
       "      <td>1.000000</td>\n",
       "      <td>161.000000</td>\n",
       "      <td>1.000000</td>\n",
       "    </tr>\n",
       "  </tbody>\n",
       "</table>\n",
       "</div>"
      ],
      "text/plain": [
       "            Fecha-O           DIA           MES           AÑO   high_season  \\\n",
       "count  68206.000000  68206.000000  68206.000000  68206.000000  68206.000000   \n",
       "mean     184.974885     15.714790      6.622585   2017.000029      0.333724   \n",
       "std      107.655445      8.782886      3.523321      0.005415      0.471546   \n",
       "min        0.000000      1.000000      1.000000   2017.000000      0.000000   \n",
       "25%       89.000000      8.000000      3.000000   2017.000000      0.000000   \n",
       "50%      190.000000     16.000000      7.000000   2017.000000      0.000000   \n",
       "75%      280.000000     23.000000     10.000000   2017.000000      1.000000   \n",
       "max      365.000000     31.000000     12.000000   2018.000000      1.000000   \n",
       "\n",
       "           min_diff      delay_15  \n",
       "count  68206.000000  68206.000000  \n",
       "mean       9.110855      0.184940  \n",
       "std       19.313387      0.388252  \n",
       "min      -14.000000      0.000000  \n",
       "25%       -1.000000      0.000000  \n",
       "50%        4.000000      0.000000  \n",
       "75%       12.000000      0.000000  \n",
       "max      161.000000      1.000000  "
      ]
     },
     "execution_count": 48,
     "metadata": {},
     "output_type": "execute_result"
    }
   ],
   "source": [
    "merged_df.describe()"
   ]
  },
  {
   "cell_type": "markdown",
   "id": "289c4538",
   "metadata": {},
   "source": [
    "# Split  training and test sets"
   ]
  },
  {
   "cell_type": "code",
   "execution_count": 49,
   "id": "9f915b7e",
   "metadata": {
    "scrolled": true
   },
   "outputs": [
    {
     "data": {
      "text/html": [
       "<div>\n",
       "<style scoped>\n",
       "    .dataframe tbody tr th:only-of-type {\n",
       "        vertical-align: middle;\n",
       "    }\n",
       "\n",
       "    .dataframe tbody tr th {\n",
       "        vertical-align: top;\n",
       "    }\n",
       "\n",
       "    .dataframe thead th {\n",
       "        text-align: right;\n",
       "    }\n",
       "</style>\n",
       "<table border=\"1\" class=\"dataframe\">\n",
       "  <thead>\n",
       "    <tr style=\"text-align: right;\">\n",
       "      <th></th>\n",
       "      <th>Fecha-I</th>\n",
       "      <th>Emp-I</th>\n",
       "      <th>Fecha-O</th>\n",
       "      <th>Emp-O</th>\n",
       "      <th>DIA</th>\n",
       "      <th>MES</th>\n",
       "      <th>AÑO</th>\n",
       "      <th>DIANOM</th>\n",
       "      <th>TIPOVUELO</th>\n",
       "      <th>OPERA</th>\n",
       "      <th>SIGLAORI</th>\n",
       "      <th>SIGLADES</th>\n",
       "      <th>high_season</th>\n",
       "      <th>min_diff</th>\n",
       "      <th>delay_15</th>\n",
       "      <th>period_day</th>\n",
       "    </tr>\n",
       "  </thead>\n",
       "  <tbody>\n",
       "    <tr>\n",
       "      <th>0</th>\n",
       "      <td>0.0</td>\n",
       "      <td>AAL</td>\n",
       "      <td>0.0</td>\n",
       "      <td>AAL</td>\n",
       "      <td>1</td>\n",
       "      <td>1</td>\n",
       "      <td>2017</td>\n",
       "      <td>Domingo</td>\n",
       "      <td>I</td>\n",
       "      <td>American Airlines</td>\n",
       "      <td>Santiago</td>\n",
       "      <td>Miami</td>\n",
       "      <td>1</td>\n",
       "      <td>3</td>\n",
       "      <td>0</td>\n",
       "      <td>night</td>\n",
       "    </tr>\n",
       "    <tr>\n",
       "      <th>1</th>\n",
       "      <td>1.0</td>\n",
       "      <td>AAL</td>\n",
       "      <td>1.0</td>\n",
       "      <td>AAL</td>\n",
       "      <td>2</td>\n",
       "      <td>1</td>\n",
       "      <td>2017</td>\n",
       "      <td>Lunes</td>\n",
       "      <td>I</td>\n",
       "      <td>American Airlines</td>\n",
       "      <td>Santiago</td>\n",
       "      <td>Miami</td>\n",
       "      <td>1</td>\n",
       "      <td>9</td>\n",
       "      <td>0</td>\n",
       "      <td>night</td>\n",
       "    </tr>\n",
       "    <tr>\n",
       "      <th>2</th>\n",
       "      <td>2.0</td>\n",
       "      <td>AAL</td>\n",
       "      <td>2.0</td>\n",
       "      <td>AAL</td>\n",
       "      <td>3</td>\n",
       "      <td>1</td>\n",
       "      <td>2017</td>\n",
       "      <td>Martes</td>\n",
       "      <td>I</td>\n",
       "      <td>American Airlines</td>\n",
       "      <td>Santiago</td>\n",
       "      <td>Miami</td>\n",
       "      <td>1</td>\n",
       "      <td>9</td>\n",
       "      <td>0</td>\n",
       "      <td>night</td>\n",
       "    </tr>\n",
       "    <tr>\n",
       "      <th>3</th>\n",
       "      <td>3.0</td>\n",
       "      <td>AAL</td>\n",
       "      <td>3.0</td>\n",
       "      <td>AAL</td>\n",
       "      <td>4</td>\n",
       "      <td>1</td>\n",
       "      <td>2017</td>\n",
       "      <td>Miercoles</td>\n",
       "      <td>I</td>\n",
       "      <td>American Airlines</td>\n",
       "      <td>Santiago</td>\n",
       "      <td>Miami</td>\n",
       "      <td>1</td>\n",
       "      <td>3</td>\n",
       "      <td>0</td>\n",
       "      <td>night</td>\n",
       "    </tr>\n",
       "    <tr>\n",
       "      <th>4</th>\n",
       "      <td>4.0</td>\n",
       "      <td>AAL</td>\n",
       "      <td>4.0</td>\n",
       "      <td>AAL</td>\n",
       "      <td>5</td>\n",
       "      <td>1</td>\n",
       "      <td>2017</td>\n",
       "      <td>Jueves</td>\n",
       "      <td>I</td>\n",
       "      <td>American Airlines</td>\n",
       "      <td>Santiago</td>\n",
       "      <td>Miami</td>\n",
       "      <td>1</td>\n",
       "      <td>-2</td>\n",
       "      <td>0</td>\n",
       "      <td>night</td>\n",
       "    </tr>\n",
       "  </tbody>\n",
       "</table>\n",
       "</div>"
      ],
      "text/plain": [
       "   Fecha-I Emp-I  Fecha-O Emp-O  DIA  MES   AÑO     DIANOM TIPOVUELO  \\\n",
       "0      0.0   AAL      0.0   AAL    1    1  2017    Domingo         I   \n",
       "1      1.0   AAL      1.0   AAL    2    1  2017      Lunes         I   \n",
       "2      2.0   AAL      2.0   AAL    3    1  2017     Martes         I   \n",
       "3      3.0   AAL      3.0   AAL    4    1  2017  Miercoles         I   \n",
       "4      4.0   AAL      4.0   AAL    5    1  2017     Jueves         I   \n",
       "\n",
       "               OPERA  SIGLAORI SIGLADES  high_season  min_diff  delay_15  \\\n",
       "0  American Airlines  Santiago    Miami            1         3         0   \n",
       "1  American Airlines  Santiago    Miami            1         9         0   \n",
       "2  American Airlines  Santiago    Miami            1         9         0   \n",
       "3  American Airlines  Santiago    Miami            1         3         0   \n",
       "4  American Airlines  Santiago    Miami            1        -2         0   \n",
       "\n",
       "  period_day  \n",
       "0      night  \n",
       "1      night  \n",
       "2      night  \n",
       "3      night  \n",
       "4      night  "
      ]
     },
     "execution_count": 49,
     "metadata": {},
     "output_type": "execute_result"
    }
   ],
   "source": [
    "df.head()"
   ]
  },
  {
   "cell_type": "code",
   "execution_count": 50,
   "id": "8b40582f",
   "metadata": {},
   "outputs": [],
   "source": [
    "X = df.drop(['delay_15','min_diff'], axis=1)\n",
    "y = df['delay_15']\n",
    "X_train, X_test, y_train, y_test = train_test_split(X, y, test_size=0.2, random_state=42)\n",
    "\n"
   ]
  },
  {
   "cell_type": "code",
   "execution_count": 51,
   "id": "a8c12aae",
   "metadata": {},
   "outputs": [
    {
     "data": {
      "text/plain": [
       "-0.00014294909465673022"
      ]
     },
     "execution_count": 51,
     "metadata": {},
     "output_type": "execute_result"
    }
   ],
   "source": [
    "baseline_model = DummyRegressor(strategy=\"mean\") # Baseline\n",
    "baseline_model.fit(X_train, y_train) # Calculate value for stratgy\n",
    "baseline_model.score(X_test, y_test) # Score model based on consistently predicting the strategy"
   ]
  },
  {
   "cell_type": "markdown",
   "id": "be28994d",
   "metadata": {},
   "source": [
    "# Model Tuning\n",
    "- Tune the hyperparameters of the model to optimize the performance."
   ]
  },
  {
   "cell_type": "markdown",
   "id": "d0c6c7ad",
   "metadata": {},
   "source": [
    "GridSearchCV:\n",
    "Parámetros que se ajustaran:\n",
    "\n",
    "- n_estimators: numero de arboles en el random forest\n",
    "- max_depth: profundidad máxima de los arboles\n",
    "- min_samples_split: numero minimo de muestras requeridas para dividir un nodo interno\n",
    "\n"
   ]
  },
  {
   "cell_type": "code",
   "execution_count": 52,
   "id": "17679d12",
   "metadata": {},
   "outputs": [],
   "source": [
    "random_forest=RandomForestRegressor() #modelo\n",
    "param_grid = {\n",
    "    'n_estimators': [100, 200, 300],\n",
    "    'max_depth': [5, 10, 15],\n",
    "    'min_samples_split': [2, 5, 10]\n",
    "}"
   ]
  },
  {
   "cell_type": "markdown",
   "id": "478c125d",
   "metadata": {},
   "source": [
    "- Crear un objeto GridSearchCV y ajustar el modelo con los datos de entrenamiento"
   ]
  },
  {
   "cell_type": "code",
   "execution_count": 53,
   "id": "799f6e66",
   "metadata": {},
   "outputs": [
    {
     "ename": "ValueError",
     "evalue": "\nAll the 135 fits failed.\nIt is very likely that your model is misconfigured.\nYou can try to debug the error by setting error_score='raise'.\n\nBelow are more details about the failures:\n--------------------------------------------------------------------------------\n27 fits failed with the following error:\nTraceback (most recent call last):\n  File \"/home/fernando/.pyenv/versions/3.8.12/envs/lewagon/lib/python3.8/site-packages/sklearn/model_selection/_validation.py\", line 686, in _fit_and_score\n    estimator.fit(X_train, y_train, **fit_params)\n  File \"/home/fernando/.pyenv/versions/3.8.12/envs/lewagon/lib/python3.8/site-packages/sklearn/ensemble/_forest.py\", line 331, in fit\n    X, y = self._validate_data(\n  File \"/home/fernando/.pyenv/versions/3.8.12/envs/lewagon/lib/python3.8/site-packages/sklearn/base.py\", line 596, in _validate_data\n    X, y = check_X_y(X, y, **check_params)\n  File \"/home/fernando/.pyenv/versions/3.8.12/envs/lewagon/lib/python3.8/site-packages/sklearn/utils/validation.py\", line 1074, in check_X_y\n    X = check_array(\n  File \"/home/fernando/.pyenv/versions/3.8.12/envs/lewagon/lib/python3.8/site-packages/sklearn/utils/validation.py\", line 856, in check_array\n    array = np.asarray(array, order=order, dtype=dtype)\n  File \"/home/fernando/.pyenv/versions/3.8.12/envs/lewagon/lib/python3.8/site-packages/numpy/core/_asarray.py\", line 83, in asarray\n    return array(a, dtype, copy=False, order=order)\n  File \"/home/fernando/.pyenv/versions/3.8.12/envs/lewagon/lib/python3.8/site-packages/pandas/core/generic.py\", line 1993, in __array__\n    return np.asarray(self._values, dtype=dtype)\n  File \"/home/fernando/.pyenv/versions/3.8.12/envs/lewagon/lib/python3.8/site-packages/numpy/core/_asarray.py\", line 83, in asarray\n    return array(a, dtype, copy=False, order=order)\nValueError: could not convert string to float: 'LAN'\n\n--------------------------------------------------------------------------------\n108 fits failed with the following error:\nTraceback (most recent call last):\n  File \"/home/fernando/.pyenv/versions/3.8.12/envs/lewagon/lib/python3.8/site-packages/sklearn/model_selection/_validation.py\", line 686, in _fit_and_score\n    estimator.fit(X_train, y_train, **fit_params)\n  File \"/home/fernando/.pyenv/versions/3.8.12/envs/lewagon/lib/python3.8/site-packages/sklearn/ensemble/_forest.py\", line 331, in fit\n    X, y = self._validate_data(\n  File \"/home/fernando/.pyenv/versions/3.8.12/envs/lewagon/lib/python3.8/site-packages/sklearn/base.py\", line 596, in _validate_data\n    X, y = check_X_y(X, y, **check_params)\n  File \"/home/fernando/.pyenv/versions/3.8.12/envs/lewagon/lib/python3.8/site-packages/sklearn/utils/validation.py\", line 1074, in check_X_y\n    X = check_array(\n  File \"/home/fernando/.pyenv/versions/3.8.12/envs/lewagon/lib/python3.8/site-packages/sklearn/utils/validation.py\", line 856, in check_array\n    array = np.asarray(array, order=order, dtype=dtype)\n  File \"/home/fernando/.pyenv/versions/3.8.12/envs/lewagon/lib/python3.8/site-packages/numpy/core/_asarray.py\", line 83, in asarray\n    return array(a, dtype, copy=False, order=order)\n  File \"/home/fernando/.pyenv/versions/3.8.12/envs/lewagon/lib/python3.8/site-packages/pandas/core/generic.py\", line 1993, in __array__\n    return np.asarray(self._values, dtype=dtype)\n  File \"/home/fernando/.pyenv/versions/3.8.12/envs/lewagon/lib/python3.8/site-packages/numpy/core/_asarray.py\", line 83, in asarray\n    return array(a, dtype, copy=False, order=order)\nValueError: could not convert string to float: 'ARG'\n",
     "output_type": "error",
     "traceback": [
      "\u001b[0;31m---------------------------------------------------------------------------\u001b[0m",
      "\u001b[0;31mValueError\u001b[0m                                Traceback (most recent call last)",
      "\u001b[0;32m/tmp/ipykernel_9925/2883837274.py\u001b[0m in \u001b[0;36m<module>\u001b[0;34m\u001b[0m\n\u001b[1;32m      1\u001b[0m \u001b[0mgrid_search\u001b[0m \u001b[0;34m=\u001b[0m \u001b[0mGridSearchCV\u001b[0m\u001b[0;34m(\u001b[0m\u001b[0mestimator\u001b[0m\u001b[0;34m=\u001b[0m\u001b[0mrandom_forest\u001b[0m\u001b[0;34m,\u001b[0m \u001b[0mparam_grid\u001b[0m\u001b[0;34m=\u001b[0m\u001b[0mparam_grid\u001b[0m\u001b[0;34m,\u001b[0m \u001b[0mcv\u001b[0m\u001b[0;34m=\u001b[0m\u001b[0;36m5\u001b[0m\u001b[0;34m)\u001b[0m\u001b[0;34m\u001b[0m\u001b[0;34m\u001b[0m\u001b[0m\n\u001b[0;32m----> 2\u001b[0;31m \u001b[0mgrid_search\u001b[0m\u001b[0;34m.\u001b[0m\u001b[0mfit\u001b[0m\u001b[0;34m(\u001b[0m\u001b[0mX_train\u001b[0m\u001b[0;34m,\u001b[0m \u001b[0my_train\u001b[0m\u001b[0;34m)\u001b[0m\u001b[0;34m\u001b[0m\u001b[0;34m\u001b[0m\u001b[0m\n\u001b[0m",
      "\u001b[0;32m~/.pyenv/versions/3.8.12/envs/lewagon/lib/python3.8/site-packages/sklearn/model_selection/_search.py\u001b[0m in \u001b[0;36mfit\u001b[0;34m(self, X, y, groups, **fit_params)\u001b[0m\n\u001b[1;32m    873\u001b[0m                 \u001b[0;32mreturn\u001b[0m \u001b[0mresults\u001b[0m\u001b[0;34m\u001b[0m\u001b[0;34m\u001b[0m\u001b[0m\n\u001b[1;32m    874\u001b[0m \u001b[0;34m\u001b[0m\u001b[0m\n\u001b[0;32m--> 875\u001b[0;31m             \u001b[0mself\u001b[0m\u001b[0;34m.\u001b[0m\u001b[0m_run_search\u001b[0m\u001b[0;34m(\u001b[0m\u001b[0mevaluate_candidates\u001b[0m\u001b[0;34m)\u001b[0m\u001b[0;34m\u001b[0m\u001b[0;34m\u001b[0m\u001b[0m\n\u001b[0m\u001b[1;32m    876\u001b[0m \u001b[0;34m\u001b[0m\u001b[0m\n\u001b[1;32m    877\u001b[0m             \u001b[0;31m# multimetric is determined here because in the case of a callable\u001b[0m\u001b[0;34m\u001b[0m\u001b[0;34m\u001b[0m\u001b[0;34m\u001b[0m\u001b[0m\n",
      "\u001b[0;32m~/.pyenv/versions/3.8.12/envs/lewagon/lib/python3.8/site-packages/sklearn/model_selection/_search.py\u001b[0m in \u001b[0;36m_run_search\u001b[0;34m(self, evaluate_candidates)\u001b[0m\n\u001b[1;32m   1377\u001b[0m     \u001b[0;32mdef\u001b[0m \u001b[0m_run_search\u001b[0m\u001b[0;34m(\u001b[0m\u001b[0mself\u001b[0m\u001b[0;34m,\u001b[0m \u001b[0mevaluate_candidates\u001b[0m\u001b[0;34m)\u001b[0m\u001b[0;34m:\u001b[0m\u001b[0;34m\u001b[0m\u001b[0;34m\u001b[0m\u001b[0m\n\u001b[1;32m   1378\u001b[0m         \u001b[0;34m\"\"\"Search all candidates in param_grid\"\"\"\u001b[0m\u001b[0;34m\u001b[0m\u001b[0;34m\u001b[0m\u001b[0m\n\u001b[0;32m-> 1379\u001b[0;31m         \u001b[0mevaluate_candidates\u001b[0m\u001b[0;34m(\u001b[0m\u001b[0mParameterGrid\u001b[0m\u001b[0;34m(\u001b[0m\u001b[0mself\u001b[0m\u001b[0;34m.\u001b[0m\u001b[0mparam_grid\u001b[0m\u001b[0;34m)\u001b[0m\u001b[0;34m)\u001b[0m\u001b[0;34m\u001b[0m\u001b[0;34m\u001b[0m\u001b[0m\n\u001b[0m\u001b[1;32m   1380\u001b[0m \u001b[0;34m\u001b[0m\u001b[0m\n\u001b[1;32m   1381\u001b[0m \u001b[0;34m\u001b[0m\u001b[0m\n",
      "\u001b[0;32m~/.pyenv/versions/3.8.12/envs/lewagon/lib/python3.8/site-packages/sklearn/model_selection/_search.py\u001b[0m in \u001b[0;36mevaluate_candidates\u001b[0;34m(candidate_params, cv, more_results)\u001b[0m\n\u001b[1;32m    850\u001b[0m                     )\n\u001b[1;32m    851\u001b[0m \u001b[0;34m\u001b[0m\u001b[0m\n\u001b[0;32m--> 852\u001b[0;31m                 \u001b[0m_warn_or_raise_about_fit_failures\u001b[0m\u001b[0;34m(\u001b[0m\u001b[0mout\u001b[0m\u001b[0;34m,\u001b[0m \u001b[0mself\u001b[0m\u001b[0;34m.\u001b[0m\u001b[0merror_score\u001b[0m\u001b[0;34m)\u001b[0m\u001b[0;34m\u001b[0m\u001b[0;34m\u001b[0m\u001b[0m\n\u001b[0m\u001b[1;32m    853\u001b[0m \u001b[0;34m\u001b[0m\u001b[0m\n\u001b[1;32m    854\u001b[0m                 \u001b[0;31m# For callable self.scoring, the return type is only know after\u001b[0m\u001b[0;34m\u001b[0m\u001b[0;34m\u001b[0m\u001b[0;34m\u001b[0m\u001b[0m\n",
      "\u001b[0;32m~/.pyenv/versions/3.8.12/envs/lewagon/lib/python3.8/site-packages/sklearn/model_selection/_validation.py\u001b[0m in \u001b[0;36m_warn_or_raise_about_fit_failures\u001b[0;34m(results, error_score)\u001b[0m\n\u001b[1;32m    365\u001b[0m                 \u001b[0;34mf\"Below are more details about the failures:\\n{fit_errors_summary}\"\u001b[0m\u001b[0;34m\u001b[0m\u001b[0;34m\u001b[0m\u001b[0m\n\u001b[1;32m    366\u001b[0m             )\n\u001b[0;32m--> 367\u001b[0;31m             \u001b[0;32mraise\u001b[0m \u001b[0mValueError\u001b[0m\u001b[0;34m(\u001b[0m\u001b[0mall_fits_failed_message\u001b[0m\u001b[0;34m)\u001b[0m\u001b[0;34m\u001b[0m\u001b[0;34m\u001b[0m\u001b[0m\n\u001b[0m\u001b[1;32m    368\u001b[0m \u001b[0;34m\u001b[0m\u001b[0m\n\u001b[1;32m    369\u001b[0m         \u001b[0;32melse\u001b[0m\u001b[0;34m:\u001b[0m\u001b[0;34m\u001b[0m\u001b[0;34m\u001b[0m\u001b[0m\n",
      "\u001b[0;31mValueError\u001b[0m: \nAll the 135 fits failed.\nIt is very likely that your model is misconfigured.\nYou can try to debug the error by setting error_score='raise'.\n\nBelow are more details about the failures:\n--------------------------------------------------------------------------------\n27 fits failed with the following error:\nTraceback (most recent call last):\n  File \"/home/fernando/.pyenv/versions/3.8.12/envs/lewagon/lib/python3.8/site-packages/sklearn/model_selection/_validation.py\", line 686, in _fit_and_score\n    estimator.fit(X_train, y_train, **fit_params)\n  File \"/home/fernando/.pyenv/versions/3.8.12/envs/lewagon/lib/python3.8/site-packages/sklearn/ensemble/_forest.py\", line 331, in fit\n    X, y = self._validate_data(\n  File \"/home/fernando/.pyenv/versions/3.8.12/envs/lewagon/lib/python3.8/site-packages/sklearn/base.py\", line 596, in _validate_data\n    X, y = check_X_y(X, y, **check_params)\n  File \"/home/fernando/.pyenv/versions/3.8.12/envs/lewagon/lib/python3.8/site-packages/sklearn/utils/validation.py\", line 1074, in check_X_y\n    X = check_array(\n  File \"/home/fernando/.pyenv/versions/3.8.12/envs/lewagon/lib/python3.8/site-packages/sklearn/utils/validation.py\", line 856, in check_array\n    array = np.asarray(array, order=order, dtype=dtype)\n  File \"/home/fernando/.pyenv/versions/3.8.12/envs/lewagon/lib/python3.8/site-packages/numpy/core/_asarray.py\", line 83, in asarray\n    return array(a, dtype, copy=False, order=order)\n  File \"/home/fernando/.pyenv/versions/3.8.12/envs/lewagon/lib/python3.8/site-packages/pandas/core/generic.py\", line 1993, in __array__\n    return np.asarray(self._values, dtype=dtype)\n  File \"/home/fernando/.pyenv/versions/3.8.12/envs/lewagon/lib/python3.8/site-packages/numpy/core/_asarray.py\", line 83, in asarray\n    return array(a, dtype, copy=False, order=order)\nValueError: could not convert string to float: 'LAN'\n\n--------------------------------------------------------------------------------\n108 fits failed with the following error:\nTraceback (most recent call last):\n  File \"/home/fernando/.pyenv/versions/3.8.12/envs/lewagon/lib/python3.8/site-packages/sklearn/model_selection/_validation.py\", line 686, in _fit_and_score\n    estimator.fit(X_train, y_train, **fit_params)\n  File \"/home/fernando/.pyenv/versions/3.8.12/envs/lewagon/lib/python3.8/site-packages/sklearn/ensemble/_forest.py\", line 331, in fit\n    X, y = self._validate_data(\n  File \"/home/fernando/.pyenv/versions/3.8.12/envs/lewagon/lib/python3.8/site-packages/sklearn/base.py\", line 596, in _validate_data\n    X, y = check_X_y(X, y, **check_params)\n  File \"/home/fernando/.pyenv/versions/3.8.12/envs/lewagon/lib/python3.8/site-packages/sklearn/utils/validation.py\", line 1074, in check_X_y\n    X = check_array(\n  File \"/home/fernando/.pyenv/versions/3.8.12/envs/lewagon/lib/python3.8/site-packages/sklearn/utils/validation.py\", line 856, in check_array\n    array = np.asarray(array, order=order, dtype=dtype)\n  File \"/home/fernando/.pyenv/versions/3.8.12/envs/lewagon/lib/python3.8/site-packages/numpy/core/_asarray.py\", line 83, in asarray\n    return array(a, dtype, copy=False, order=order)\n  File \"/home/fernando/.pyenv/versions/3.8.12/envs/lewagon/lib/python3.8/site-packages/pandas/core/generic.py\", line 1993, in __array__\n    return np.asarray(self._values, dtype=dtype)\n  File \"/home/fernando/.pyenv/versions/3.8.12/envs/lewagon/lib/python3.8/site-packages/numpy/core/_asarray.py\", line 83, in asarray\n    return array(a, dtype, copy=False, order=order)\nValueError: could not convert string to float: 'ARG'\n"
     ]
    }
   ],
   "source": [
    "grid_search = GridSearchCV(estimator=random_forest, param_grid=param_grid, cv=5)\n",
    "grid_search.fit(X_train, y_train)"
   ]
  },
  {
   "cell_type": "markdown",
   "id": "5d79e776",
   "metadata": {},
   "source": [
    "- random_forest: modelo de random forest \n",
    "- param_grid: cuadrícula de valores para los hiperparámetros que queremos ajustar\n",
    "- cv: numero de veces que se realizara la validacion cruzada"
   ]
  },
  {
   "cell_type": "markdown",
   "id": "3c1e8a49",
   "metadata": {},
   "source": [
    "- Obtención del mejor conjunto de hiperparámetros y el mejor puntaje:"
   ]
  },
  {
   "cell_type": "code",
   "execution_count": null,
   "id": "76808fce",
   "metadata": {},
   "outputs": [],
   "source": [
    "best_params = grid_search.best_params_\n",
    "best_score = grid_search.best_score_\n",
    "\n",
    "print('Best params:', best_params)\n",
    "print('Best score:', best_score)"
   ]
  },
  {
   "cell_type": "markdown",
   "id": "81060a5b",
   "metadata": {},
   "source": [
    "- Reentrenar el modelo con el mejor conjunto de hiperparámetros"
   ]
  },
  {
   "cell_type": "code",
   "execution_count": null,
   "id": "26ba4908",
   "metadata": {},
   "outputs": [],
   "source": [
    "random_forest_tuned = RandomForestClassifier(**best_params)\n",
    "random_forest_tuned.fit(X_train, y_train)"
   ]
  },
  {
   "cell_type": "markdown",
   "id": "8d46019f",
   "metadata": {},
   "source": [
    "Modelo ajustado con los mejores hiperparámetros encontrados durante el model tuning."
   ]
  },
  {
   "cell_type": "markdown",
   "id": "a7dd5b4c",
   "metadata": {},
   "source": [
    "- Reentrenamiento del modelo ajustado con los mejores hiperparámetros encontrados durante el model tuning"
   ]
  },
  {
   "cell_type": "code",
   "execution_count": null,
   "id": "864c4727",
   "metadata": {},
   "outputs": [],
   "source": [
    "random_forest_tuned = RandomForestClassifier(**best_params)\n",
    "random_forest_tuned.fit(X_train, y_train)"
   ]
  },
  {
   "cell_type": "markdown",
   "id": "4271d3ef",
   "metadata": {},
   "source": [
    "## Label Encoder"
   ]
  },
  {
   "cell_type": "code",
   "execution_count": null,
   "id": "3a22f669",
   "metadata": {
    "scrolled": true
   },
   "outputs": [],
   "source": [
    "le = LabelEncoder()\n",
    "categorical_columns = ['Emp-I','Emp-O','DIANOM','TIPOVUELO','OPERA','SIGLAORI','SIGLADES','period_day']\n",
    "for col in categorical_columns:\n",
    "    X_train[col] = le.fit_transform(X_train[col])\n",
    "    X_test[col] = le.transform(X_test[col])"
   ]
  },
  {
   "cell_type": "markdown",
   "id": "fe8a968a",
   "metadata": {},
   "source": [
    "## Scale numerical features\n",
    "- No es necesario realizar este paso, ya que delay_15 es binario"
   ]
  },
  {
   "cell_type": "markdown",
   "id": "fb4380e4",
   "metadata": {},
   "source": [
    "# Model Training"
   ]
  },
  {
   "cell_type": "code",
   "execution_count": null,
   "id": "70c719d9",
   "metadata": {},
   "outputs": [],
   "source": [
    "- Se probarán distintos modelos de entrenamiento (Logistic Regression - Decision Tree - Random Forests - Gradient Boosting)\n"
   ]
  },
  {
   "cell_type": "markdown",
   "id": "f46916d9",
   "metadata": {},
   "source": [
    "### Logistic Regression"
   ]
  },
  {
   "cell_type": "code",
   "execution_count": null,
   "id": "0b4e197a",
   "metadata": {},
   "outputs": [],
   "source": [
    "lr = LogisticRegression(random_state=42)\n",
    "lr.fit(X_train, y_train)"
   ]
  },
  {
   "cell_type": "markdown",
   "id": "b6b92040",
   "metadata": {},
   "source": [
    "make predictions on test set"
   ]
  },
  {
   "cell_type": "code",
   "execution_count": null,
   "id": "c28abc77",
   "metadata": {
    "scrolled": true
   },
   "outputs": [],
   "source": [
    "y_pred_lr = lr.predict(X_test)\n",
    "print('Accuracy score for Logistic Regression: ', accuracy_score(y_test, y_pred_lr))\n",
    "print('Confusion Matrix for Logistic Regression: \\n', confusion_matrix(y_test, y_pred_lr))\n",
    "print('Classification Report for Logistic Regression: \\n', classification_report(y_test, y_pred_lr))"
   ]
  },
  {
   "cell_type": "markdown",
   "id": "22c5aecd",
   "metadata": {},
   "source": [
    "Logistic Regression (without merged weatherdata):\n",
    "- True negative: 11.068\n",
    "- False negative: 2574\n",
    "- True positive: 0\n",
    "- False positive: 0\n",
    "\n"
   ]
  },
  {
   "cell_type": "markdown",
   "id": "f94cf62b",
   "metadata": {},
   "source": [
    "### Decision Tree"
   ]
  },
  {
   "cell_type": "code",
   "execution_count": null,
   "id": "1dc5abb8",
   "metadata": {},
   "outputs": [],
   "source": [
    "dt = DecisionTreeClassifier(random_state=42)\n",
    "dt.fit(X_train, y_train)\n",
    "\n"
   ]
  },
  {
   "cell_type": "code",
   "execution_count": null,
   "id": "849e411c",
   "metadata": {},
   "outputs": [],
   "source": [
    "y_pred_dt = dt.predict(X_test)\n",
    "print('Accuracy score for Decision Tree: ', accuracy_score(y_test, y_pred_dt))\n",
    "print('Confusion Matrix for Decision Tree: \\n', confusion_matrix(y_test, y_pred_dt))\n",
    "print('Classification Report for Decision Tree: \\n', classification_report(y_test, y_pred_dt))"
   ]
  },
  {
   "cell_type": "markdown",
   "id": "abfbfd9a",
   "metadata": {},
   "source": [
    "Decision Tree (without merged weatherdata):\n",
    "- True negative: 9.540\n",
    "- False negative: 1.770\n",
    "- True positive: 1.528\n",
    "- False positive: 804"
   ]
  },
  {
   "cell_type": "markdown",
   "id": "afad15b8",
   "metadata": {},
   "source": [
    "### Random Forests"
   ]
  },
  {
   "cell_type": "code",
   "execution_count": null,
   "id": "4fbb9e59",
   "metadata": {},
   "outputs": [],
   "source": [
    "rf = RandomForestClassifier(random_state=42)\n",
    "rf.fit(X_train, y_train)\n",
    "\n"
   ]
  },
  {
   "cell_type": "code",
   "execution_count": null,
   "id": "e5be04f7",
   "metadata": {
    "scrolled": true
   },
   "outputs": [],
   "source": [
    "y_pred_rf = rf.predict(X_test)\n",
    "print('Accuracy score for Random Forest: ', accuracy_score(y_test, y_pred_rf))\n",
    "print('Confusion Matrix for Random Forest: \\n', confusion_matrix(y_test, y_pred_rf))\n",
    "print('Classification Report for Random Forest: \\n', classification_report(y_test, y_pred_rf))"
   ]
  },
  {
   "cell_type": "markdown",
   "id": "ef54f005",
   "metadata": {},
   "source": [
    "Random Forest (without merged weatherdata):\n",
    "- True negative: 10.081\n",
    "- False negative: 1.850\n",
    "- True positive: 724\n",
    "- False positive: 987"
   ]
  },
  {
   "cell_type": "markdown",
   "id": "f0eb0dbd",
   "metadata": {},
   "source": [
    "### Gradient Boosting"
   ]
  },
  {
   "cell_type": "code",
   "execution_count": null,
   "id": "2b1b1b4d",
   "metadata": {},
   "outputs": [],
   "source": [
    "gb = GradientBoostingClassifier(random_state=42)\n",
    "param_grid = {'n_estimators': [100, 200, 300],\n",
    "              'learning_rate': [0.01, 0.1, 1],\n",
    "              'max_depth': [3, 5, 7]}\n",
    "gb_cv = GridSearchCV(estimator=gb, param_grid=param_grid, cv=5)\n",
    "gb.fit(X_train, y_train)\n",
    "\n"
   ]
  },
  {
   "cell_type": "code",
   "execution_count": null,
   "id": "be9ae0ca",
   "metadata": {
    "scrolled": true
   },
   "outputs": [],
   "source": [
    "y_pred_gb = gb.predict(X_test)\n",
    "print('Accuracy score for Gradient Boosting: ', accuracy_score(y_test, y_pred_gb))\n",
    "print('Confusion Matrix for Gradient Boosting: \\n', confusion_matrix(y_test, y_pred_gb))\n",
    "print('Classification Report for Gradient Boosting: \\n', classification_report(y_test, y_pred_gb))"
   ]
  },
  {
   "cell_type": "markdown",
   "id": "1b771c54",
   "metadata": {},
   "source": [
    "Gradient Boosting (without merged weatherdata):\n",
    "- True negative: 11.035\n",
    "- False negative: 2.494\n",
    "- True positive: 80\n",
    "- False positive: 33"
   ]
  },
  {
   "cell_type": "markdown",
   "id": "874096c5",
   "metadata": {},
   "source": [
    "# Model Evaluation"
   ]
  },
  {
   "cell_type": "markdown",
   "id": "1576c765",
   "metadata": {},
   "source": [
    "- Para evaluar el modelo, como se trata de un problema de clasificación binaria, se utilizará la métrica de precisión"
   ]
  },
  {
   "cell_type": "markdown",
   "id": "63d4f558",
   "metadata": {},
   "source": [
    "Para interpretar los resultados del modelo, se pueden analizar las características mas importantes que el modelo ha utilizado para hacer las predicciones.\n",
    "\n",
    "Se puede hacer utilizando el atributo \"feature importances\" de los modelos Decision Tree y Random Forest."
   ]
  },
  {
   "cell_type": "markdown",
   "id": "8e642730",
   "metadata": {},
   "source": [
    "# Model Evaluation"
   ]
  },
  {
   "cell_type": "markdown",
   "id": "c5cba70e",
   "metadata": {},
   "source": [
    "Una vez que se ha obtenido el modelo con los parámetros óptimos, es necesario evaluar su desempeño utilizando los datos de prueba"
   ]
  },
  {
   "cell_type": "code",
   "execution_count": null,
   "id": "f8cbf243",
   "metadata": {},
   "outputs": [],
   "source": [
    "# Importar métricas de evaluación\n",
    "from sklearn.metrics import classification_report\n",
    "\n",
    "# Predecir con datos de prueba\n",
    "y_pred = grid_search.predict(X_test)\n",
    "\n",
    "# Imprimir reporte de clasificación\n",
    "print(classification_report(y_test, y_pred))"
   ]
  },
  {
   "cell_type": "markdown",
   "id": "0c2f8090",
   "metadata": {},
   "source": [
    "## Results Interpretation"
   ]
  },
  {
   "cell_type": "markdown",
   "id": "c26d56d9",
   "metadata": {},
   "source": [
    "Se deben interpretar los resultados obtenidos y determinar si el modelo es adecuado para el problema en cuestión."
   ]
  },
  {
   "cell_type": "code",
   "execution_count": null,
   "id": "229d09b3",
   "metadata": {},
   "outputs": [],
   "source": [
    "# Obtener importancia de características\n",
    "importances = grid_search.best_estimator_.feature_importances_\n",
    "\n",
    "# Ordenar características por importancia descendente\n",
    "indices = np.argsort(importances)[::-1]\n",
    "\n",
    "# Imprimir características y su importancia\n",
    "print(\"Características más importantes:\")\n",
    "for i in range(X.shape[1]):\n",
    "    print(\"%d. %s (%f)\" % (i + 1, X.columns[indices[i]], importances[indices[i]]))"
   ]
  },
  {
   "cell_type": "markdown",
   "id": "642418f0",
   "metadata": {},
   "source": [
    "# Model Deployment"
   ]
  },
  {
   "cell_type": "markdown",
   "id": "35d888af",
   "metadata": {},
   "source": [
    "Si el modelo es satisfactorio, se debe desplegar en producción para su uso real en la predicción de retrasos en los vuelos."
   ]
  },
  {
   "cell_type": "markdown",
   "id": "ff6ab908",
   "metadata": {},
   "source": [
    "# Challenge Questions:\n"
   ]
  },
  {
   "cell_type": "markdown",
   "id": "9e7635f0",
   "metadata": {},
   "source": [
    "## How is the data distributed? Did you find any noteworthy insight to share? What can you conclude about this?"
   ]
  },
  {
   "cell_type": "markdown",
   "id": "8295276c",
   "metadata": {},
   "source": [
    "\n",
    "- La cantidad de vuelos en temporada alta es casi la mitad respecto a los on-time\n",
    "- Se observa una distribución normal con el 95% de los valores entre los 5-10 minutos de delay.\n",
    "- Se presenta mayor delay en los vuelos nacionales vs internacionales\n",
    "- La mayor cantidad de atrasos se genera durante la mañana y durante la tarde\n",
    "- Los meses con la mayor cantidad de atrasos es Julio, Seguido por Diciembre\n",
    "- Los días Viernes hay mayor tasa de delays\n",
    "- Se observa mayor cantidad de atrasos en vuelos internacionales vs nacionales"
   ]
  },
  {
   "cell_type": "markdown",
   "id": "f0f9c5b3",
   "metadata": {},
   "source": [
    "## What is the behavior of the delay rate across destination, airline, month of the year, day of the week, season, type of flight? What variables would you expect to have the most influence in predicting delays?"
   ]
  },
  {
   "cell_type": "markdown",
   "id": "3214fe80",
   "metadata": {},
   "source": [
    "los destinos con mayor delay_rate son:\n",
    "- EQYP (FALKLAND - UK)\n",
    "- SEQM (Sucre - Quito - ECUADOR)\n",
    "- SEQU (QUITO - ECUADOR)\n",
    "- SLCB (Cochabamba - BOLIVIA)\n",
    "\n",
    "Seguidas por:\n",
    "- SAWH (USHUAIA - ARGENTINA)\n",
    "- YMML (MELBOURNE - AUSTRALIA)\n",
    "- YSSY (SYDNEY - AUSTRALIA)\n",
    "- SAZS (BARILOCHE - ARGENTINA)\n",
    "\n",
    "Las aerolíneas con la mayor tasa de delays son:\n",
    "- DSM\n",
    "- LNE\n",
    "- LXP\n",
    "- PUE\n",
    "- QFU\n",
    "\n",
    "\n",
    "Los meses con la mayor cantidad de atrasos \n",
    "- Julio\n",
    "- Seguido por Diciembre\n",
    "\n",
    "\n",
    "\n",
    "Los días Viernes hay mayor tasa de retrasos\n",
    "\n",
    "Hay mayor tasa de atrasos en temporada alta vs temporada baja\n",
    "\n",
    "Se observa mayor cantidad de atrasos en vuelos internacionales vs nacionales"
   ]
  },
  {
   "cell_type": "markdown",
   "id": "f65785fe",
   "metadata": {},
   "source": [
    "## Train one or several models (using the algorithm(s) of your choice) to estimate the likelihood of a flight delay.\n",
    "\n",
    "\n",
    "\n",
    "- Se entrenaron 4 modelos con el dataset sin cruzar información externa de meteorologia:\n",
    "- Logistic\n",
    "- Decision Tree\n",
    "- Random Forests\n",
    "- Gradient Boosting\n",
    "\n",
    "La matriz de confusión de los modelos son los siguientes:\n",
    "\n",
    "Logistic Regression (without merged weatherdata):\n",
    "- True negative: 11.068\n",
    "- False negative: 2574\n",
    "- True positive: 0\n",
    "- False positive: 0\n",
    "\n",
    "Decision Tree (without merged weatherdata):\n",
    "- True negative: 9.540\n",
    "- False negative: 1.770\n",
    "- True positive: 1.528\n",
    "- False positive: 804\n",
    "\n",
    "Random Forest (without merged weatherdata):\n",
    "- True negative: 10.081\n",
    "- False negative: 1.850\n",
    "- True positive: 724\n",
    "- False positive: 987\n",
    "\n",
    "Gradient Boosting (without merged weatherdata):\n",
    "- True negative: 11.035\n",
    "- False negative: 2.494\n",
    "- True positive: 80\n",
    "- False positive: 33\n",
    "\n",
    "El modelo Decision Tree entrega un valor mas apropiado en la predicción de los vuelos con retraso.\n",
    "\n",
    "Pese a que se realizó integración de información de meteorología de las ciudades destinos en los días correspondientes que se hicieron vuelos desde Santiago, (API desde apiweathermap)\n",
    "\n",
    "No se alcanzó a entrenar y evaluar con esta información, sin embargo se realizó el notebook API_weather.ipynb con el proceso de extracción de información API para su análisis.\n"
   ]
  },
  {
   "cell_type": "markdown",
   "id": "ee55eccb",
   "metadata": {},
   "source": [
    "## Evaluate model performance in the predictive task across each model that you trained. Define and justify what metrics you used\n",
    "to assess model performance. Pick the best trained model and evaluate the following: What variables were the most influential in\n",
    "the prediction task? How could you improve the Performance?"
   ]
  },
  {
   "cell_type": "markdown",
   "id": "beb78911",
   "metadata": {},
   "source": [
    "Según lo observado, sin la información externa de datos de meteorología, el modelo Decision Tree se adecúa de mejor forma para predecir el retraso de los vuelos desde el aeropuerto de Santiago de Chile.\n",
    "\n",
    "Se puede mejorar el performance integrando información de meteorología o congestión de aeropuertos.\n",
    "\n",
    "Mientras mas datos externo se tenga  (congestión aeropuerto o meteorología) será mas precisa la predicción"
   ]
  }
 ],
 "metadata": {
  "kernelspec": {
   "display_name": "Python 3 (ipykernel)",
   "language": "python",
   "name": "python3"
  },
  "language_info": {
   "codemirror_mode": {
    "name": "ipython",
    "version": 3
   },
   "file_extension": ".py",
   "mimetype": "text/x-python",
   "name": "python",
   "nbconvert_exporter": "python",
   "pygments_lexer": "ipython3",
   "version": "3.8.12"
  },
  "toc": {
   "base_numbering": 1,
   "nav_menu": {},
   "number_sections": true,
   "sideBar": true,
   "skip_h1_title": false,
   "title_cell": "Table of Contents",
   "title_sidebar": "Contents",
   "toc_cell": false,
   "toc_position": {},
   "toc_section_display": true,
   "toc_window_display": false
  }
 },
 "nbformat": 4,
 "nbformat_minor": 5
}
